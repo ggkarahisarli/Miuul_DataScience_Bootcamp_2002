{
  "nbformat": 4,
  "nbformat_minor": 0,
  "metadata": {
    "colab": {
      "provenance": [],
      "toc_visible": true
    },
    "kernelspec": {
      "name": "python3",
      "display_name": "Python 3"
    },
    "language_info": {
      "name": "python"
    }
  },
  "cells": [
    {
      "cell_type": "markdown",
      "source": [
        "# Feature Engineering\n",
        "\n",
        "Data does not always lead directly or easily to insights and information. Poor data cannot lead to positive outcomes. It is apparent at this point how vital data preprocessing is. Through data preparation, potentially valuable data can be extracted from raw data. \n",
        "\n",
        "***\n",
        "\n",
        "**Features:** *These are special representations that are generated from the raw data through the feature engineering process.*\n",
        "\n",
        "***\n",
        "\n",
        "Having a solid understanding of feature engineering is essential for making effective use of machine learning tools. Since algorithms can't function with data that hasn't been properly processed and wrangled into the appropriate format, raw data is hardly used to build any Machine Learning models. Features are characteristics or attributes obtained from raw data. The three main steps needed to manage data features. The list of them is as follows:\n",
        "\n",
        "1. Feature extraction and engineering\n",
        "2. Feature scaling\n",
        "3. Feature selection\n",
        "\n",
        "\n",
        "![Feature Engineering Pipeline](https://drive.google.com/uc?id=129X0Ir0huQx1vP7CH9GPVSTa3cjKoAyQ)\n",
        "\n",
        "\n",
        "> \"Feature engineering is the process of transforming raw data into features that better represent the underlying problem to the predictive models, resulting in improved model accuracy on unseen data.\" - *Dr. Jason Brownlee*\n",
        "\n",
        "\n",
        "### *Why Feature Engineering?*\n",
        "\n",
        "- Better data representation\n",
        "- Better performing models\n"
      ],
      "metadata": {
        "id": "BW6tjkzivVyo"
      }
    },
    {
      "cell_type": "markdown",
      "source": [
        "\n",
        "## Outliers\n",
        "***\n",
        "**Outliers:** These are the data points that are significantly different from the remaining data.\n",
        "****\n",
        "\n",
        "***\n",
        "**Multivariate Outliers:** These are a combination of unusual scores on at least two variables.\n",
        "***\n",
        "\n",
        "### *Finding Outliers?*\n",
        "- Sectorial expertise\n",
        "- Standard deviation approach\n",
        "- z-score approach\n",
        "- Bozplot Method\n",
        "\n",
        "### *Handling Outliers?*\n",
        "- Removing\n",
        "- Replacing\n",
        "\n"
      ],
      "metadata": {
        "id": "ztNTVPejzvzL"
      }
    },
    {
      "cell_type": "markdown",
      "source": [
        "\n",
        "## Missing Values\n",
        "***\n",
        "**Missing Values:** These refers to the absence of values for specific observations.\n",
        "****\n",
        "\n",
        "### *Missing Values?*\n",
        "- Removing observations with missing data\n",
        "- Performing mean or median imputation\n",
        "- Replacing missing values with an arbitrary number\n",
        "- Performing imputation in categorical variable breakdown\n",
        "- Performing imputation with predictive value\n",
        "\n"
      ],
      "metadata": {
        "id": "WCO8DgEFzybk"
      }
    },
    {
      "cell_type": "markdown",
      "source": [
        "\n",
        "## Encoding\n",
        "***\n",
        "**Encoding:** It is the process of replacing strings with numbers.\n",
        "****\n",
        "\n",
        "### Label Encoding & Binary Encoding\n",
        "The binary variable indicates whether the category is present in an observation (1) or not. To collect all the data for two labels, we simply need to establish one binary variable.\n",
        "\n",
        "### One-Hot Encoding\n",
        "A group of binary variables that each represent a single category are how we represent a categorical variable. If there are k categories, we need to create k - 1  binary variables to capture all the information.\n",
        "\n",
        "### Rare Encoding\n",
        "The frequency of the variable is taken into consideration when eliminating unnecessary variables. Therefore, we can consider rare ones to be a single variable.\n",
        "\n"
      ],
      "metadata": {
        "id": "mWIwbwfsz1U3"
      }
    },
    {
      "cell_type": "markdown",
      "source": [
        "## Feature Extraction\n",
        "\n",
        "### Binary Features\n",
        "- New variables can be produced over the existing variables as 1 and 0. they are marked as flags.\n",
        "\n",
        "### Text Features\n",
        "- Counting characters, words, and vocabulary\n",
        "- Estimating text complexity by counting sentences\n",
        "- Creating features with bag-of-words and n-grams\n",
        "- Implementing term frequency-inverse document frequency\n",
        "\n",
        "### Regex Features\n",
        "- We can find a string pattern and operate on the strings that match the pattern.\n",
        "\n",
        "### Date Features\n",
        "- Extracting date and time parts from a datetime variable\n",
        "- Deriving representations of the year and month\n",
        "- Creating representations of day and week\n",
        "- Extracting time parts from a time variable\n",
        "- Capturing the elapsed time between datetime variables\n",
        "\n",
        "\n",
        "### Feature Interaction\n",
        "- Combining multiple features with statistical operations\n",
        "- Combining pairs of features with mathematical functions\n"
      ],
      "metadata": {
        "id": "zaY1Fggqz5x7"
      }
    },
    {
      "cell_type": "markdown",
      "source": [
        "## Feature Scaling\n",
        "The quantity and size of the features have an impact on many machine learning techniques. We can compare feature importance when features are on a similar scale. Additionally, algorithms perform better and take less time to train when convergence occurs quickly.\n",
        "- Standard Scaler\n",
        "- Robust Scaler\n",
        "- Min-Max Scaler\n"
      ],
      "metadata": {
        "id": "1w4gXL48z4J3"
      }
    },
    {
      "cell_type": "markdown",
      "source": [
        "# Telco Customer Churn: Focus on *Feature Engineering*\n",
        "***\n",
        "\n",
        "**Business Problem:** The business problem is developing a machine learning model that can predict customers leaving the company. We will do the required data analysis and feature engineering procedures in this project before creating the model.\n",
        "\n",
        "***"
      ],
      "metadata": {
        "id": "Vqsmlz0qz8SW"
      }
    },
    {
      "cell_type": "markdown",
      "source": [
        "# Dataset\n",
        "We used the **Telco Customer Churn** dataset from *Kaggle*. This dataset contains details about a hypothetical telecom provider that served 7,043 customers in California in the third quarter by offering home phone and Internet services. It displays which clients have canceled, stayed, or joined their service.\n",
        "\n",
        "**Telco Customer Churn dataset has 21 variables (columns) and 7043 observations (rows).** Here, customers are represented by rows, while their attributes are represented by columns.\n",
        "\n",
        "\n",
        "- **CustomerId:** Customer ID.\n",
        "\n",
        "*Demographic Information:*\n",
        "\n",
        "- **Gender:** Whether the customer is a male or a female. *(Female, Male)*\n",
        "- **SeniorCitizen:** Whether the customer is a senior citizen or not. *(1, 0)*\n",
        "- **Partner:** Whether the customer has a partner or not. *(1, 0)*\n",
        "- **Dependents:** Whether the customer has dependents or not. *(Yes, No)*\n",
        "\n",
        "*Customer Account Information:*\n",
        "\n",
        "- **tenure:** Number of months the customer has stayed with the company.\n",
        "- **Contract:** Customer's contract duration. *(Month-to-Month, One year, Two year)*\n",
        "- **PaperlessBilling:** Whether the customer has a paperless invoice. *(Yes, No)*\n",
        "- **PaymentMethod:** Customer's payment method. *(Electronic check, Mailed check, Bank transfer (automatic), Credit Card (automatic))*\n",
        "- **MonthlyCharges:** Amount collected from the customer on a monthly basis.\n",
        "- **TotalCharges:** Total amount charged from customer.\n",
        "\n",
        "*Services Information:*\n",
        "\n",
        "- **PhoneService:** Whether the customer has a phone service or not. *(Yes, No)*\n",
        "- **MultipleLines:** Whether the customer has multiple lines or not. *(No phone service, No, Yes)*\n",
        "- **InternetService:** Customer’s internet service provider. *(DSL, Fiber optic, No)*\n",
        "- **OnlineSecurity:** Whether the customer has online security or not. *(No internet service, No, Yes)*\n",
        "- **OnlineBackup:** Whether the customer has an online backup.  *(No internet service, No, Yes)*\n",
        "- **DeviceProtection:** Whether the customer has device protection. *(No internet service, No, Yes)*\n",
        "- **TechSupport:**  Whether the customer has technical support. *(No internet service, No, Yes)*\n",
        "- **StreamingTV:** Whether the customer has a TV broadcast. *(No internet service, No, Yes)*\n",
        "- **StreamingMovies:** MWhether the customer has streaming movies. *(No internet service, No, Yes)*\n",
        "\n",
        "*Target:*\n",
        "- **Churn:** Customers who left within the last month. *(Yes, No)*"
      ],
      "metadata": {
        "id": "3GELtg4u1MBw"
      }
    },
    {
      "cell_type": "markdown",
      "source": [
        "# Exploratory Data Analysis (EDA)"
      ],
      "metadata": {
        "id": "FI_skWNwOi64"
      }
    },
    {
      "cell_type": "code",
      "source": [
        "# Libraries\n",
        "\n",
        "# for data manipulation\n",
        "import numpy as np\n",
        "import pandas as pd\n",
        "\n",
        "# for visualization\n",
        "import seaborn as sns\n",
        "from matplotlib import pyplot as plt\n",
        "\n",
        "# for data transforming and model training\n",
        "import missingno as msno\n",
        "from datetime import date\n",
        "from sklearn.metrics import accuracy_score\n",
        "from sklearn.model_selection import train_test_split\n",
        "from sklearn.neighbors import LocalOutlierFactor\n",
        "from sklearn.preprocessing import MinMaxScaler, LabelEncoder, StandardScaler, RobustScaler\n"
      ],
      "metadata": {
        "id": "AZZBcaz00B2Q"
      },
      "execution_count": null,
      "outputs": []
    },
    {
      "cell_type": "code",
      "source": [
        "# setting configurations\n",
        "pd.set_option('display.max_columns', None)\n",
        "pd.set_option('display.max_rows', None)\n",
        "pd.set_option('display.float_format', lambda x: '%.3f' % x)\n",
        "pd.set_option('display.width', 500)"
      ],
      "metadata": {
        "id": "YxHX1m0K4yji"
      },
      "execution_count": null,
      "outputs": []
    },
    {
      "cell_type": "code",
      "source": [
        "# dataset\n",
        "df = pd.read_csv(\"/content/sample_data/Telco-Customer-Churn.csv\")\n",
        "\n",
        "# https://www.kaggle.com/datasets/blastchar/telco-customer-churn"
      ],
      "metadata": {
        "id": "c8hJW8AP5ZbJ"
      },
      "execution_count": null,
      "outputs": []
    },
    {
      "cell_type": "code",
      "source": [
        "# the function that gives the first look\n",
        "def checkDf(dataframe, head=8):\n",
        "    print(\"##### Shape #####\\n\")\n",
        "    print(dataframe.shape)\n",
        "    print(\"\\n##### Types #####\\n\")\n",
        "    print(dataframe.dtypes)\n",
        "    print(\"\\n##### Tail #####\\n\")\n",
        "    print(dataframe.tail(head))\n",
        "    print(\"\\n##### Head #####\\n\")\n",
        "    print(dataframe.head(head))\n",
        "    print(\"\\n##### Null Analysis #####\\n\")\n",
        "    print(dataframe.isnull().sum())\n",
        "    print(\"\\n##### Quantiles #####\\n\")\n",
        "    print(dataframe.describe([0, 0.05, 0.50, 0.95, 0.99, 1]).T)"
      ],
      "metadata": {
        "id": "3ZG6M7hl54VC"
      },
      "execution_count": null,
      "outputs": []
    },
    {
      "cell_type": "code",
      "source": [
        "# first look\n",
        "checkDf(df)"
      ],
      "metadata": {
        "colab": {
          "base_uri": "https://localhost:8080/"
        },
        "id": "UtMHco8N56w4",
        "outputId": "62d6d2fa-7643-4944-a0f8-b0e7cda1c6b4"
      },
      "execution_count": null,
      "outputs": [
        {
          "output_type": "stream",
          "name": "stdout",
          "text": [
            "##### Shape #####\n",
            "\n",
            "(7043, 21)\n",
            "\n",
            "##### Types #####\n",
            "\n",
            "customerID           object\n",
            "gender               object\n",
            "SeniorCitizen         int64\n",
            "Partner              object\n",
            "Dependents           object\n",
            "tenure                int64\n",
            "PhoneService         object\n",
            "MultipleLines        object\n",
            "InternetService      object\n",
            "OnlineSecurity       object\n",
            "OnlineBackup         object\n",
            "DeviceProtection     object\n",
            "TechSupport          object\n",
            "StreamingTV          object\n",
            "StreamingMovies      object\n",
            "Contract             object\n",
            "PaperlessBilling     object\n",
            "PaymentMethod        object\n",
            "MonthlyCharges      float64\n",
            "TotalCharges        float64\n",
            "Churn                 int64\n",
            "dtype: object\n",
            "\n",
            "##### Tail #####\n",
            "\n",
            "      customerID  gender  SeniorCitizen Partner Dependents  tenure PhoneService     MultipleLines InternetService       OnlineSecurity         OnlineBackup     DeviceProtection          TechSupport          StreamingTV      StreamingMovies        Contract PaperlessBilling              PaymentMethod  MonthlyCharges  TotalCharges  Churn\n",
            "7035  8456-QDAVC    Male              0      No         No      19          Yes                No     Fiber optic                   No                   No                   No                   No                  Yes                   No  Month-to-month              Yes  Bank transfer (automatic)          78.700      1495.100      0\n",
            "7036  7750-EYXWZ  Female              0      No         No      12           No  No phone service             DSL                   No                  Yes                  Yes                  Yes                  Yes                  Yes        One year               No           Electronic check          60.650       743.300      0\n",
            "7037  2569-WGERO  Female              0      No         No      72          Yes                No              No  No internet service  No internet service  No internet service  No internet service  No internet service  No internet service        Two year              Yes  Bank transfer (automatic)          21.150      1419.400      0\n",
            "7038  6840-RESVB    Male              0     Yes        Yes      24          Yes               Yes             DSL                  Yes                   No                  Yes                  Yes                  Yes                  Yes        One year              Yes               Mailed check          84.800      1990.500      0\n",
            "7039  2234-XADUH  Female              0     Yes        Yes      72          Yes               Yes     Fiber optic                   No                  Yes                  Yes                   No                  Yes                  Yes        One year              Yes    Credit card (automatic)         103.200      7362.900      0\n",
            "7040  4801-JZAZL  Female              0     Yes        Yes      11           No  No phone service             DSL                  Yes                   No                   No                   No                   No                   No  Month-to-month              Yes           Electronic check          29.600       346.450      0\n",
            "7041  8361-LTMKD    Male              1     Yes         No       4          Yes               Yes     Fiber optic                   No                   No                   No                   No                   No                   No  Month-to-month              Yes               Mailed check          74.400       306.600      1\n",
            "7042  3186-AJIEK    Male              0      No         No      66          Yes                No     Fiber optic                  Yes                   No                  Yes                  Yes                  Yes                  Yes        Two year              Yes  Bank transfer (automatic)         105.650      6844.500      0\n",
            "\n",
            "##### Head #####\n",
            "\n",
            "   customerID  gender  SeniorCitizen Partner Dependents  tenure PhoneService     MultipleLines InternetService OnlineSecurity OnlineBackup DeviceProtection TechSupport StreamingTV StreamingMovies        Contract PaperlessBilling              PaymentMethod  MonthlyCharges  TotalCharges  Churn\n",
            "0  7590-VHVEG  Female              0     Yes         No       1           No  No phone service             DSL             No          Yes               No          No          No              No  Month-to-month              Yes           Electronic check          29.850        29.850      0\n",
            "1  5575-GNVDE    Male              0      No         No      34          Yes                No             DSL            Yes           No              Yes          No          No              No        One year               No               Mailed check          56.950      1889.500      0\n",
            "2  3668-QPYBK    Male              0      No         No       2          Yes                No             DSL            Yes          Yes               No          No          No              No  Month-to-month              Yes               Mailed check          53.850       108.150      1\n",
            "3  7795-CFOCW    Male              0      No         No      45           No  No phone service             DSL            Yes           No              Yes         Yes          No              No        One year               No  Bank transfer (automatic)          42.300      1840.750      0\n",
            "4  9237-HQITU  Female              0      No         No       2          Yes                No     Fiber optic             No           No               No          No          No              No  Month-to-month              Yes           Electronic check          70.700       151.650      1\n",
            "5  9305-CDSKC  Female              0      No         No       8          Yes               Yes     Fiber optic             No           No              Yes          No         Yes             Yes  Month-to-month              Yes           Electronic check          99.650       820.500      1\n",
            "6  1452-KIOVK    Male              0      No        Yes      22          Yes               Yes     Fiber optic             No          Yes               No          No         Yes              No  Month-to-month              Yes    Credit card (automatic)          89.100      1949.400      0\n",
            "7  6713-OKOMC  Female              0      No         No      10           No  No phone service             DSL            Yes           No               No          No          No              No  Month-to-month               No               Mailed check          29.750       301.900      0\n",
            "\n",
            "##### Null Analysis #####\n",
            "\n",
            "customerID           0\n",
            "gender               0\n",
            "SeniorCitizen        0\n",
            "Partner              0\n",
            "Dependents           0\n",
            "tenure               0\n",
            "PhoneService         0\n",
            "MultipleLines        0\n",
            "InternetService      0\n",
            "OnlineSecurity       0\n",
            "OnlineBackup         0\n",
            "DeviceProtection     0\n",
            "TechSupport          0\n",
            "StreamingTV          0\n",
            "StreamingMovies      0\n",
            "Contract             0\n",
            "PaperlessBilling     0\n",
            "PaymentMethod        0\n",
            "MonthlyCharges       0\n",
            "TotalCharges        11\n",
            "Churn                0\n",
            "dtype: int64\n",
            "\n",
            "##### Quantiles #####\n",
            "\n",
            "                  count     mean      std    min     0%     5%      50%      95%      99%     100%      max\n",
            "SeniorCitizen  7043.000    0.162    0.369  0.000  0.000  0.000    0.000    1.000    1.000    1.000    1.000\n",
            "tenure         7043.000   32.371   24.559  0.000  0.000  1.000   29.000   72.000   72.000   72.000   72.000\n",
            "MonthlyCharges 7043.000   64.762   30.090 18.250 18.250 19.650   70.350  107.400  114.729  118.750  118.750\n",
            "TotalCharges   7032.000 2283.300 2266.771 18.800 18.800 49.605 1397.475 6923.590 8039.883 8684.800 8684.800\n",
            "Churn          7043.000    0.265    0.442  0.000  0.000  0.000    0.000    1.000    1.000    1.000    1.000\n"
          ]
        }
      ]
    },
    {
      "cell_type": "code",
      "source": [
        "# check the unique values for variables\n",
        "for col in df.columns:\n",
        "    print('Column: {}\\nUnique Values: {}\\n\\n'.format(col , df[col].unique()))"
      ],
      "metadata": {
        "colab": {
          "base_uri": "https://localhost:8080/"
        },
        "id": "G8U0NFRxKJJq",
        "outputId": "73951922-feed-40e8-ccd6-d13fb9a2c45a"
      },
      "execution_count": null,
      "outputs": [
        {
          "output_type": "stream",
          "name": "stdout",
          "text": [
            "Column: customerID\n",
            "Unique Values: ['7590-VHVEG' '5575-GNVDE' '3668-QPYBK' ... '4801-JZAZL' '8361-LTMKD'\n",
            " '3186-AJIEK']\n",
            "\n",
            "\n",
            "Column: gender\n",
            "Unique Values: ['Female' 'Male']\n",
            "\n",
            "\n",
            "Column: SeniorCitizen\n",
            "Unique Values: [0 1]\n",
            "\n",
            "\n",
            "Column: Partner\n",
            "Unique Values: ['Yes' 'No']\n",
            "\n",
            "\n",
            "Column: Dependents\n",
            "Unique Values: ['No' 'Yes']\n",
            "\n",
            "\n",
            "Column: tenure\n",
            "Unique Values: [ 1 34  2 45  8 22 10 28 62 13 16 58 49 25 69 52 71 21 12 30 47 72 17 27\n",
            "  5 46 11 70 63 43 15 60 18 66  9  3 31 50 64 56  7 42 35 48 29 65 38 68\n",
            " 32 55 37 36 41  6  4 33 67 23 57 61 14 20 53 40 59 24 44 19 54 51 26  0\n",
            " 39]\n",
            "\n",
            "\n",
            "Column: PhoneService\n",
            "Unique Values: ['No' 'Yes']\n",
            "\n",
            "\n",
            "Column: MultipleLines\n",
            "Unique Values: ['No phone service' 'No' 'Yes']\n",
            "\n",
            "\n",
            "Column: InternetService\n",
            "Unique Values: ['DSL' 'Fiber optic' 'No']\n",
            "\n",
            "\n",
            "Column: OnlineSecurity\n",
            "Unique Values: ['No' 'Yes' 'No internet service']\n",
            "\n",
            "\n",
            "Column: OnlineBackup\n",
            "Unique Values: ['Yes' 'No' 'No internet service']\n",
            "\n",
            "\n",
            "Column: DeviceProtection\n",
            "Unique Values: ['No' 'Yes' 'No internet service']\n",
            "\n",
            "\n",
            "Column: TechSupport\n",
            "Unique Values: ['No' 'Yes' 'No internet service']\n",
            "\n",
            "\n",
            "Column: StreamingTV\n",
            "Unique Values: ['No' 'Yes' 'No internet service']\n",
            "\n",
            "\n",
            "Column: StreamingMovies\n",
            "Unique Values: ['No' 'Yes' 'No internet service']\n",
            "\n",
            "\n",
            "Column: Contract\n",
            "Unique Values: ['Month-to-month' 'One year' 'Two year']\n",
            "\n",
            "\n",
            "Column: PaperlessBilling\n",
            "Unique Values: ['Yes' 'No']\n",
            "\n",
            "\n",
            "Column: PaymentMethod\n",
            "Unique Values: ['Electronic check' 'Mailed check' 'Bank transfer (automatic)'\n",
            " 'Credit card (automatic)']\n",
            "\n",
            "\n",
            "Column: MonthlyCharges\n",
            "Unique Values: [29.85 56.95 53.85 ... 63.1  44.2  78.7 ]\n",
            "\n",
            "\n",
            "Column: TotalCharges\n",
            "Unique Values: ['29.85' '1889.5' '108.15' ... '346.45' '306.6' '6844.5']\n",
            "\n",
            "\n",
            "Column: Churn\n",
            "Unique Values: ['No' 'Yes']\n",
            "\n",
            "\n"
          ]
        }
      ]
    },
    {
      "cell_type": "markdown",
      "source": [
        "The type of data is crucial in determining the kind of visual representation, data analysis, or statistical model. What's more, the data type of a variable affects how computations for that variable will be handled by the software. This is why, we have tha following function."
      ],
      "metadata": {
        "id": "ossCWM68Ry5_"
      }
    },
    {
      "cell_type": "code",
      "source": [
        "def grab_col_names(dataframe, cat_th=10, car_th=20):\n",
        "    \"\"\"\n",
        "    It gives the classes of variables in the data set as categorical, numerical and categorical but cardinal.\n",
        "    Note: Categorical variables with numerical appearance are also included in categorical variables.\n",
        "\n",
        "    Parameters\n",
        "    ------\n",
        "        dataframe: dataframe\n",
        "                   the dataframe from which the variable classes are to be imported\n",
        "        cat_th: int, optional\n",
        "                threshold for numeric but categorical variables\n",
        "        car_th: int, optinal\n",
        "                 threshold for categorical but cardinal variables\n",
        "\n",
        "    Returns\n",
        "    ------\n",
        "        cat_cols: list\n",
        "                Categorical variable list\n",
        "        num_cols: list\n",
        "                Numeric variable list\n",
        "        cat_but_car: list\n",
        "                Cardinal variables with categorical appearance\n",
        "\n",
        "    Notes\n",
        "    ------\n",
        "        cat_cols + num_cols + cat_but_car = total number of variables\n",
        "        num_but_cat is in cat_cols.\n",
        "        \n",
        "    \"\"\"\n",
        "\n",
        "    # cat_cols, cat_but_car\n",
        "    cat_cols = [col for col in dataframe.columns if dataframe[col].dtypes == \"O\"]\n",
        "    num_but_cat = [col for col in dataframe.columns if dataframe[col].nunique() < cat_th and\n",
        "                   dataframe[col].dtypes != \"O\"]\n",
        "    cat_but_car = [col for col in dataframe.columns if dataframe[col].nunique() > car_th and\n",
        "                   dataframe[col].dtypes == \"O\"]\n",
        "    cat_cols = cat_cols + num_but_cat\n",
        "    cat_cols = [col for col in cat_cols if col not in cat_but_car]\n",
        "\n",
        "    # num_cols\n",
        "    num_cols = [col for col in dataframe.columns if dataframe[col].dtypes != \"O\"]\n",
        "    num_cols = [col for col in num_cols if col not in num_but_cat]\n",
        "\n",
        "    print(f\"Observations: {dataframe.shape[0]}\")\n",
        "    print(f\"Variables: {dataframe.shape[1]}\")\n",
        "    print(f'cat_cols: {len(cat_cols)}')\n",
        "    print(f'num_cols: {len(num_cols)}')\n",
        "    print(f'cat_but_car: {len(cat_but_car)}')\n",
        "    print(f'num_but_cat: {len(num_but_cat)}')\n",
        "    return cat_cols, num_cols, cat_but_car"
      ],
      "metadata": {
        "id": "QaJLqcKcKvsd"
      },
      "execution_count": null,
      "outputs": []
    },
    {
      "cell_type": "code",
      "source": [
        "cat_cols, num_cols, cat_but_car = grab_col_names(df)"
      ],
      "metadata": {
        "colab": {
          "base_uri": "https://localhost:8080/"
        },
        "id": "zWJKeuVBMuhd",
        "outputId": "7fc4ac55-6307-4a91-83e5-18f71261f0d8"
      },
      "execution_count": null,
      "outputs": [
        {
          "output_type": "stream",
          "name": "stdout",
          "text": [
            "Observations: 7043\n",
            "Variables: 21\n",
            "cat_cols: 17\n",
            "num_cols: 2\n",
            "cat_but_car: 2\n",
            "num_but_cat: 1\n"
          ]
        }
      ]
    },
    {
      "cell_type": "code",
      "source": [
        "cat_cols"
      ],
      "metadata": {
        "colab": {
          "base_uri": "https://localhost:8080/"
        },
        "id": "8nLv-RvIMxPf",
        "outputId": "363f2e01-d344-4e91-e333-8bf9ed4da467"
      },
      "execution_count": null,
      "outputs": [
        {
          "output_type": "execute_result",
          "data": {
            "text/plain": [
              "['gender',\n",
              " 'Partner',\n",
              " 'Dependents',\n",
              " 'PhoneService',\n",
              " 'MultipleLines',\n",
              " 'InternetService',\n",
              " 'OnlineSecurity',\n",
              " 'OnlineBackup',\n",
              " 'DeviceProtection',\n",
              " 'TechSupport',\n",
              " 'StreamingTV',\n",
              " 'StreamingMovies',\n",
              " 'Contract',\n",
              " 'PaperlessBilling',\n",
              " 'PaymentMethod',\n",
              " 'Churn',\n",
              " 'SeniorCitizen']"
            ]
          },
          "metadata": {},
          "execution_count": 25
        }
      ]
    },
    {
      "cell_type": "code",
      "source": [
        "num_cols"
      ],
      "metadata": {
        "colab": {
          "base_uri": "https://localhost:8080/"
        },
        "id": "oCeS4eqIMzCx",
        "outputId": "ad1fcf27-c179-457b-9814-ef03385a360a"
      },
      "execution_count": null,
      "outputs": [
        {
          "output_type": "execute_result",
          "data": {
            "text/plain": [
              "['tenure', 'MonthlyCharges']"
            ]
          },
          "metadata": {},
          "execution_count": 26
        }
      ]
    },
    {
      "cell_type": "code",
      "source": [
        " cat_but_car"
      ],
      "metadata": {
        "colab": {
          "base_uri": "https://localhost:8080/"
        },
        "id": "J0tgW_WPM05t",
        "outputId": "2ac5b350-1c18-4f08-ccc4-d618427006c5"
      },
      "execution_count": null,
      "outputs": [
        {
          "output_type": "execute_result",
          "data": {
            "text/plain": [
              "['customerID', 'TotalCharges']"
            ]
          },
          "metadata": {},
          "execution_count": 27
        }
      ]
    },
    {
      "cell_type": "code",
      "source": [
        "# TotalCharges should be numeric\n",
        "df[\"TotalCharges\"] = pd.to_numeric(df[\"TotalCharges\"], errors='coerce')\n",
        "\n",
        "#‘coerce’, then invalid parsing will be set as NaN."
      ],
      "metadata": {
        "id": "CtWj7ni8M3mn"
      },
      "execution_count": null,
      "outputs": []
    },
    {
      "cell_type": "code",
      "source": [
        "df['Churn'].replace(['No', 'Yes'], [0, 1], inplace=True)"
      ],
      "metadata": {
        "id": "g6F5fRJfM_dA"
      },
      "execution_count": null,
      "outputs": []
    },
    {
      "cell_type": "code",
      "source": [
        "checkDf(df)"
      ],
      "metadata": {
        "colab": {
          "base_uri": "https://localhost:8080/"
        },
        "id": "mu1OE1hyOQAJ",
        "outputId": "f018756c-cc60-4d66-8d22-184fb08fafc6"
      },
      "execution_count": null,
      "outputs": [
        {
          "output_type": "stream",
          "name": "stdout",
          "text": [
            "##### Shape #####\n",
            "\n",
            "(7043, 21)\n",
            "\n",
            "##### Types #####\n",
            "\n",
            "customerID           object\n",
            "gender               object\n",
            "SeniorCitizen         int64\n",
            "Partner              object\n",
            "Dependents           object\n",
            "tenure                int64\n",
            "PhoneService         object\n",
            "MultipleLines        object\n",
            "InternetService      object\n",
            "OnlineSecurity       object\n",
            "OnlineBackup         object\n",
            "DeviceProtection     object\n",
            "TechSupport          object\n",
            "StreamingTV          object\n",
            "StreamingMovies      object\n",
            "Contract             object\n",
            "PaperlessBilling     object\n",
            "PaymentMethod        object\n",
            "MonthlyCharges      float64\n",
            "TotalCharges        float64\n",
            "Churn                 int64\n",
            "dtype: object\n",
            "\n",
            "##### Tail #####\n",
            "\n",
            "      customerID  gender  SeniorCitizen Partner Dependents  tenure PhoneService     MultipleLines InternetService       OnlineSecurity         OnlineBackup     DeviceProtection          TechSupport          StreamingTV      StreamingMovies        Contract PaperlessBilling              PaymentMethod  MonthlyCharges  TotalCharges  Churn\n",
            "7035  8456-QDAVC    Male              0      No         No      19          Yes                No     Fiber optic                   No                   No                   No                   No                  Yes                   No  Month-to-month              Yes  Bank transfer (automatic)          78.700      1495.100      0\n",
            "7036  7750-EYXWZ  Female              0      No         No      12           No  No phone service             DSL                   No                  Yes                  Yes                  Yes                  Yes                  Yes        One year               No           Electronic check          60.650       743.300      0\n",
            "7037  2569-WGERO  Female              0      No         No      72          Yes                No              No  No internet service  No internet service  No internet service  No internet service  No internet service  No internet service        Two year              Yes  Bank transfer (automatic)          21.150      1419.400      0\n",
            "7038  6840-RESVB    Male              0     Yes        Yes      24          Yes               Yes             DSL                  Yes                   No                  Yes                  Yes                  Yes                  Yes        One year              Yes               Mailed check          84.800      1990.500      0\n",
            "7039  2234-XADUH  Female              0     Yes        Yes      72          Yes               Yes     Fiber optic                   No                  Yes                  Yes                   No                  Yes                  Yes        One year              Yes    Credit card (automatic)         103.200      7362.900      0\n",
            "7040  4801-JZAZL  Female              0     Yes        Yes      11           No  No phone service             DSL                  Yes                   No                   No                   No                   No                   No  Month-to-month              Yes           Electronic check          29.600       346.450      0\n",
            "7041  8361-LTMKD    Male              1     Yes         No       4          Yes               Yes     Fiber optic                   No                   No                   No                   No                   No                   No  Month-to-month              Yes               Mailed check          74.400       306.600      1\n",
            "7042  3186-AJIEK    Male              0      No         No      66          Yes                No     Fiber optic                  Yes                   No                  Yes                  Yes                  Yes                  Yes        Two year              Yes  Bank transfer (automatic)         105.650      6844.500      0\n",
            "\n",
            "##### Head #####\n",
            "\n",
            "   customerID  gender  SeniorCitizen Partner Dependents  tenure PhoneService     MultipleLines InternetService OnlineSecurity OnlineBackup DeviceProtection TechSupport StreamingTV StreamingMovies        Contract PaperlessBilling              PaymentMethod  MonthlyCharges  TotalCharges  Churn\n",
            "0  7590-VHVEG  Female              0     Yes         No       1           No  No phone service             DSL             No          Yes               No          No          No              No  Month-to-month              Yes           Electronic check          29.850        29.850      0\n",
            "1  5575-GNVDE    Male              0      No         No      34          Yes                No             DSL            Yes           No              Yes          No          No              No        One year               No               Mailed check          56.950      1889.500      0\n",
            "2  3668-QPYBK    Male              0      No         No       2          Yes                No             DSL            Yes          Yes               No          No          No              No  Month-to-month              Yes               Mailed check          53.850       108.150      1\n",
            "3  7795-CFOCW    Male              0      No         No      45           No  No phone service             DSL            Yes           No              Yes         Yes          No              No        One year               No  Bank transfer (automatic)          42.300      1840.750      0\n",
            "4  9237-HQITU  Female              0      No         No       2          Yes                No     Fiber optic             No           No               No          No          No              No  Month-to-month              Yes           Electronic check          70.700       151.650      1\n",
            "5  9305-CDSKC  Female              0      No         No       8          Yes               Yes     Fiber optic             No           No              Yes          No         Yes             Yes  Month-to-month              Yes           Electronic check          99.650       820.500      1\n",
            "6  1452-KIOVK    Male              0      No        Yes      22          Yes               Yes     Fiber optic             No          Yes               No          No         Yes              No  Month-to-month              Yes    Credit card (automatic)          89.100      1949.400      0\n",
            "7  6713-OKOMC  Female              0      No         No      10           No  No phone service             DSL            Yes           No               No          No          No              No  Month-to-month               No               Mailed check          29.750       301.900      0\n",
            "\n",
            "##### Null Analysis #####\n",
            "\n",
            "customerID           0\n",
            "gender               0\n",
            "SeniorCitizen        0\n",
            "Partner              0\n",
            "Dependents           0\n",
            "tenure               0\n",
            "PhoneService         0\n",
            "MultipleLines        0\n",
            "InternetService      0\n",
            "OnlineSecurity       0\n",
            "OnlineBackup         0\n",
            "DeviceProtection     0\n",
            "TechSupport          0\n",
            "StreamingTV          0\n",
            "StreamingMovies      0\n",
            "Contract             0\n",
            "PaperlessBilling     0\n",
            "PaymentMethod        0\n",
            "MonthlyCharges       0\n",
            "TotalCharges        11\n",
            "Churn                0\n",
            "dtype: int64\n",
            "\n",
            "##### Quantiles #####\n",
            "\n",
            "                  count     mean      std    min     0%     5%      50%      95%      99%     100%      max\n",
            "SeniorCitizen  7043.000    0.162    0.369  0.000  0.000  0.000    0.000    1.000    1.000    1.000    1.000\n",
            "tenure         7043.000   32.371   24.559  0.000  0.000  1.000   29.000   72.000   72.000   72.000   72.000\n",
            "MonthlyCharges 7043.000   64.762   30.090 18.250 18.250 19.650   70.350  107.400  114.729  118.750  118.750\n",
            "TotalCharges   7032.000 2283.300 2266.771 18.800 18.800 49.605 1397.475 6923.590 8039.883 8684.800 8684.800\n",
            "Churn          7043.000    0.265    0.442  0.000  0.000  0.000    0.000    1.000    1.000    1.000    1.000\n",
            "Observations: 7043\n",
            "Variables: 21\n",
            "cat_cols: 17\n",
            "num_cols: 3\n",
            "cat_but_car: 1\n",
            "num_but_cat: 2\n"
          ]
        }
      ]
    },
    {
      "cell_type": "code",
      "source": [
        "cat_cols, num_cols, cat_but_car = grab_col_names(df)"
      ],
      "metadata": {
        "colab": {
          "base_uri": "https://localhost:8080/"
        },
        "id": "csq1OG45OTj1",
        "outputId": "de03b6bd-e5aa-483d-e655-c466dd26098e"
      },
      "execution_count": null,
      "outputs": [
        {
          "output_type": "stream",
          "name": "stdout",
          "text": [
            "Observations: 7043\n",
            "Variables: 21\n",
            "cat_cols: 17\n",
            "num_cols: 3\n",
            "cat_but_car: 1\n",
            "num_but_cat: 2\n"
          ]
        }
      ]
    },
    {
      "cell_type": "code",
      "source": [
        "cat_but_car"
      ],
      "metadata": {
        "colab": {
          "base_uri": "https://localhost:8080/"
        },
        "id": "OLjPGzKIOabp",
        "outputId": "7c7217bf-9865-4d10-f6e6-01314179c1d7"
      },
      "execution_count": null,
      "outputs": [
        {
          "output_type": "execute_result",
          "data": {
            "text/plain": [
              "['customerID']"
            ]
          },
          "metadata": {},
          "execution_count": 36
        }
      ]
    },
    {
      "cell_type": "code",
      "source": [
        "num_cols"
      ],
      "metadata": {
        "colab": {
          "base_uri": "https://localhost:8080/"
        },
        "id": "SYWIkBqPOYh3",
        "outputId": "4ab7f81b-a72e-40c2-8030-afda9ce72b66"
      },
      "execution_count": null,
      "outputs": [
        {
          "output_type": "execute_result",
          "data": {
            "text/plain": [
              "['tenure', 'MonthlyCharges', 'TotalCharges']"
            ]
          },
          "metadata": {},
          "execution_count": 35
        }
      ]
    },
    {
      "cell_type": "code",
      "source": [
        "cat_cols"
      ],
      "metadata": {
        "colab": {
          "base_uri": "https://localhost:8080/"
        },
        "id": "ii9RiATtOXVG",
        "outputId": "4a963177-28e2-429b-f544-ecd958201fee"
      },
      "execution_count": null,
      "outputs": [
        {
          "output_type": "execute_result",
          "data": {
            "text/plain": [
              "['gender',\n",
              " 'Partner',\n",
              " 'Dependents',\n",
              " 'PhoneService',\n",
              " 'MultipleLines',\n",
              " 'InternetService',\n",
              " 'OnlineSecurity',\n",
              " 'OnlineBackup',\n",
              " 'DeviceProtection',\n",
              " 'TechSupport',\n",
              " 'StreamingTV',\n",
              " 'StreamingMovies',\n",
              " 'Contract',\n",
              " 'PaperlessBilling',\n",
              " 'PaymentMethod',\n",
              " 'SeniorCitizen',\n",
              " 'Churn']"
            ]
          },
          "metadata": {},
          "execution_count": 34
        }
      ]
    },
    {
      "cell_type": "markdown",
      "source": [
        "## Categorical Variable Analysis"
      ],
      "metadata": {
        "id": "x9hF642vOv5h"
      }
    },
    {
      "cell_type": "code",
      "source": [
        "def cat_summary(dataframe, col_name, plot=False):\n",
        "    if dataframe[col_name].dtypes == \"bool\":\n",
        "        dataframe[col_name] = dataframe[col_name].astype(int)\n",
        "        print( pd.DataFrame({col_name: dataframe[col_name].value_counts(),\n",
        "                            \"Ratio\": 100 * dataframe[col_name].value_counts() / len(dataframe)}))\n",
        "        print(\"##########################################\\n\")\n",
        "\n",
        "        if plot:\n",
        "            sns.countplot(x=dataframe[col_name], data=dataframe)\n",
        "            plt.tick_params(rotation='auto')\n",
        "            plt.show(block=True)\n",
        "    else:\n",
        "        print(pd.DataFrame({col_name: dataframe[col_name].value_counts(),\n",
        "                            \"Ratio\": 100 * dataframe[col_name].value_counts() / len(dataframe)}))\n",
        "        print(\"##########################################\\n\")\n",
        "\n",
        "        if plot:\n",
        "            sns.countplot(x=dataframe[col_name], data=dataframe)\n",
        "            plt.tick_params(rotation='auto')\n",
        "            plt.show(block=True)\n"
      ],
      "metadata": {
        "id": "p4Mn8F1qO8Yz"
      },
      "execution_count": null,
      "outputs": []
    },
    {
      "cell_type": "code",
      "source": [
        "for col in cat_cols:\n",
        "    cat_summary(df, col, plot=True)"
      ],
      "metadata": {
        "colab": {
          "base_uri": "https://localhost:8080/",
          "height": 1000
        },
        "id": "nxRzkadTO-8U",
        "outputId": "76aec40a-2867-4f23-d7e7-cbaa6dc1c64e"
      },
      "execution_count": null,
      "outputs": [
        {
          "output_type": "stream",
          "name": "stdout",
          "text": [
            "        gender  Ratio\n",
            "Male      3555 50.476\n",
            "Female    3488 49.524\n",
            "##########################################\n",
            "\n"
          ]
        },
        {
          "output_type": "display_data",
          "data": {
            "text/plain": [
              "<Figure size 432x288 with 1 Axes>"
            ],
            "image/png": "[encoded data removed]"
          },
          "metadata": {
            "needs_background": "light"
          }
        },
        {
          "output_type": "stream",
          "name": "stdout",
          "text": [
            "     Partner  Ratio\n",
            "No      3641 51.697\n",
            "Yes     3402 48.303\n",
            "##########################################\n",
            "\n"
          ]
        },
        {
          "output_type": "display_data",
          "data": {
            "text/plain": [
              "<Figure size 432x288 with 1 Axes>"
            ],
            "image/png": "[encoded data removed]"
          },
          "metadata": {
            "needs_background": "light"
          }
        },
        {
          "output_type": "stream",
          "name": "stdout",
          "text": [
            "     Dependents  Ratio\n",
            "No         4933 70.041\n",
            "Yes        2110 29.959\n",
            "##########################################\n",
            "\n"
          ]
        },
        {
          "output_type": "display_data",
          "data": {
            "text/plain": [
              "<Figure size 432x288 with 1 Axes>"
            ],
            "image/png": "[encoded data removed]"
          },
          "metadata": {
            "needs_background": "light"
          }
        },
        {
          "output_type": "stream",
          "name": "stdout",
          "text": [
            "     PhoneService  Ratio\n",
            "Yes          6361 90.317\n",
            "No            682  9.683\n",
            "##########################################\n",
            "\n"
          ]
        },
        {
          "output_type": "display_data",
          "data": {
            "text/plain": [
              "<Figure size 432x288 with 1 Axes>"
            ],
            "image/png": "[encoded data removed]"
          },
          "metadata": {
            "needs_background": "light"
          }
        },
        {
          "output_type": "stream",
          "name": "stdout",
          "text": [
            "                  MultipleLines  Ratio\n",
            "No                         3390 48.133\n",
            "Yes                        2971 42.184\n",
            "No phone service            682  9.683\n",
            "##########################################\n",
            "\n"
          ]
        },
        {
          "output_type": "display_data",
          "data": {
            "text/plain": [
              "<Figure size 432x288 with 1 Axes>"
            ],
            "image/png": "[encoded data removed]"
          },
          "metadata": {
            "needs_background": "light"
          }
        },
        {
          "output_type": "stream",
          "name": "stdout",
          "text": [
            "             InternetService  Ratio\n",
            "Fiber optic             3096 43.959\n",
            "DSL                     2421 34.375\n",
            "No                      1526 21.667\n",
            "##########################################\n",
            "\n"
          ]
        },
        {
          "output_type": "display_data",
          "data": {
            "text/plain": [
              "<Figure size 432x288 with 1 Axes>"
            ],
            "image/png": "[encoded data removed]"
          },
          "metadata": {
            "needs_background": "light"
          }
        },
        {
          "output_type": "stream",
          "name": "stdout",
          "text": [
            "                     OnlineSecurity  Ratio\n",
            "No                             3498 49.666\n",
            "Yes                            2019 28.667\n",
            "No internet service            1526 21.667\n",
            "##########################################\n",
            "\n"
          ]
        },
        {
          "output_type": "display_data",
          "data": {
            "text/plain": [
              "<Figure size 432x288 with 1 Axes>"
            ],
            "image/png": "[encoded data removed]"
          },
          "metadata": {
            "needs_background": "light"
          }
        },
        {
          "output_type": "stream",
          "name": "stdout",
          "text": [
            "                     OnlineBackup  Ratio\n",
            "No                           3088 43.845\n",
            "Yes                          2429 34.488\n",
            "No internet service          1526 21.667\n",
            "##########################################\n",
            "\n"
          ]
        },
        {
          "output_type": "display_data",
          "data": {
            "text/plain": [
              "<Figure size 432x288 with 1 Axes>"
            ],
            "image/png": "[encoded data removed]"
          },
          "metadata": {
            "needs_background": "light"
          }
        },
        {
          "output_type": "stream",
          "name": "stdout",
          "text": [
            "                     DeviceProtection  Ratio\n",
            "No                               3095 43.944\n",
            "Yes                              2422 34.389\n",
            "No internet service              1526 21.667\n",
            "##########################################\n",
            "\n"
          ]
        },
        {
          "output_type": "display_data",
          "data": {
            "text/plain": [
              "<Figure size 432x288 with 1 Axes>"
            ],
            "image/png": "[encoded data removed]"
          },
          "metadata": {
            "needs_background": "light"
          }
        },
        {
          "output_type": "stream",
          "name": "stdout",
          "text": [
            "                     TechSupport  Ratio\n",
            "No                          3473 49.311\n",
            "Yes                         2044 29.022\n",
            "No internet service         1526 21.667\n",
            "##########################################\n",
            "\n"
          ]
        },
        {
          "output_type": "display_data",
          "data": {
            "text/plain": [
              "<Figure size 432x288 with 1 Axes>"
            ],
            "image/png": "[encoded data removed]"
          },
          "metadata": {
            "needs_background": "light"
          }
        },
        {
          "output_type": "stream",
          "name": "stdout",
          "text": [
            "                     StreamingTV  Ratio\n",
            "No                          2810 39.898\n",
            "Yes                         2707 38.435\n",
            "No internet service         1526 21.667\n",
            "##########################################\n",
            "\n"
          ]
        },
        {
          "output_type": "display_data",
          "data": {
            "text/plain": [
              "<Figure size 432x288 with 1 Axes>"
            ],
            "image/png": "[encoded data removed]"
          },
          "metadata": {
            "needs_background": "light"
          }
        },
        {
          "output_type": "stream",
          "name": "stdout",
          "text": [
            "                     StreamingMovies  Ratio\n",
            "No                              2785 39.543\n",
            "Yes                             2732 38.790\n",
            "No internet service             1526 21.667\n",
            "##########################################\n",
            "\n"
          ]
        },
        {
          "output_type": "display_data",
          "data": {
            "text/plain": [
              "<Figure size 432x288 with 1 Axes>"
            ],
            "image/png": "[encoded data removed]"
          },
          "metadata": {
            "needs_background": "light"
          }
        },
        {
          "output_type": "stream",
          "name": "stdout",
          "text": [
            "                Contract  Ratio\n",
            "Month-to-month      3875 55.019\n",
            "Two year            1695 24.066\n",
            "One year            1473 20.914\n",
            "##########################################\n",
            "\n"
          ]
        },
        {
          "output_type": "display_data",
          "data": {
            "text/plain": [
              "<Figure size 432x288 with 1 Axes>"
            ],
            "image/png": "[encoded data removed]"
          },
          "metadata": {
            "needs_background": "light"
          }
        },
        {
          "output_type": "stream",
          "name": "stdout",
          "text": [
            "     PaperlessBilling  Ratio\n",
            "Yes              4171 59.222\n",
            "No               2872 40.778\n",
            "##########################################\n",
            "\n"
          ]
        },
        {
          "output_type": "display_data",
          "data": {
            "text/plain": [
              "<Figure size 432x288 with 1 Axes>"
            ],
            "image/png": "[encoded data removed]"
          },
          "metadata": {
            "needs_background": "light"
          }
        },
        {
          "output_type": "stream",
          "name": "stdout",
          "text": [
            "                           PaymentMethod  Ratio\n",
            "Electronic check                    2365 33.579\n",
            "Mailed check                        1612 22.888\n",
            "Bank transfer (automatic)           1544 21.922\n",
            "Credit card (automatic)             1522 21.610\n",
            "##########################################\n",
            "\n"
          ]
        },
        {
          "output_type": "display_data",
          "data": {
            "text/plain": [
              "<Figure size 432x288 with 1 Axes>"
            ],
            "image/png": "[encoded data removed]"
          },
          "metadata": {
            "needs_background": "light"
          }
        },
        {
          "output_type": "stream",
          "name": "stdout",
          "text": [
            "   SeniorCitizen  Ratio\n",
            "0           5901 83.785\n",
            "1           1142 16.215\n",
            "##########################################\n",
            "\n"
          ]
        },
        {
          "output_type": "display_data",
          "data": {
            "text/plain": [
              "<Figure size 432x288 with 1 Axes>"
            ],
            "image/png": "[encoded data removed]"
          },
          "metadata": {
            "needs_background": "light"
          }
        },
        {
          "output_type": "stream",
          "name": "stdout",
          "text": [
            "   Churn  Ratio\n",
            "0   5174 73.463\n",
            "1   1869 26.537\n",
            "##########################################\n",
            "\n"
          ]
        },
        {
          "output_type": "display_data",
          "data": {
            "text/plain": [
              "<Figure size 432x288 with 1 Axes>"
            ],
            "image/png": "[encoded data removed]"
          },
          "metadata": {
            "needs_background": "light"
          }
        }
      ]
    },
    {
      "cell_type": "markdown",
      "source": [
        "## Numeric Variable Analysis"
      ],
      "metadata": {
        "id": "ZlT2uDRTP3N0"
      }
    },
    {
      "cell_type": "code",
      "source": [
        "def num_summary(dataframe, numerical_col, plot=False):\n",
        "    quantiles = [0.05, 0.10, 0.20, 0.30, 0.40, 0.50, 0.60, 0.70, 0.80, 0.90, 0.95, 0.99]\n",
        "    print(dataframe[numerical_col].describe(quantiles).T)\n",
        "\n",
        "    if plot:\n",
        "        dataframe[numerical_col].hist()\n",
        "        plt.xlabel(numerical_col)\n",
        "        plt.title(numerical_col)\n",
        "        plt.tick_params(rotation='auto')\n",
        "        plt.show(block=True)"
      ],
      "metadata": {
        "id": "J-58Z-cZP9bt"
      },
      "execution_count": null,
      "outputs": []
    },
    {
      "cell_type": "code",
      "source": [
        "for col in num_cols:\n",
        "    print(f\"{col}:\")\n",
        "    num_summary(df, col, True)"
      ],
      "metadata": {
        "colab": {
          "base_uri": "https://localhost:8080/",
          "height": 1000
        },
        "id": "Dz8GL7mbQBUB",
        "outputId": "910a6075-9b1d-4f91-8a98-4703bc990a97"
      },
      "execution_count": null,
      "outputs": [
        {
          "output_type": "stream",
          "name": "stdout",
          "text": [
            "tenure:\n",
            "count   7043.000\n",
            "mean      32.371\n",
            "std       24.559\n",
            "min        0.000\n",
            "5%         1.000\n",
            "10%        2.000\n",
            "20%        6.000\n",
            "30%       12.000\n",
            "40%       20.000\n",
            "50%       29.000\n",
            "60%       40.000\n",
            "70%       50.000\n",
            "80%       60.000\n",
            "90%       69.000\n",
            "95%       72.000\n",
            "99%       72.000\n",
            "max       72.000\n",
            "Name: tenure, dtype: float64\n"
          ]
        },
        {
          "output_type": "display_data",
          "data": {
            "text/plain": [
              "<Figure size 432x288 with 1 Axes>"
            ],
            "image/png": "[encoded data removed]"
          },
          "metadata": {
            "needs_background": "light"
          }
        },
        {
          "output_type": "stream",
          "name": "stdout",
          "text": [
            "MonthlyCharges:\n",
            "count   7043.000\n",
            "mean      64.762\n",
            "std       30.090\n",
            "min       18.250\n",
            "5%        19.650\n",
            "10%       20.050\n",
            "20%       25.050\n",
            "30%       45.850\n",
            "40%       58.830\n",
            "50%       70.350\n",
            "60%       79.100\n",
            "70%       85.500\n",
            "80%       94.250\n",
            "90%      102.600\n",
            "95%      107.400\n",
            "99%      114.729\n",
            "max      118.750\n",
            "Name: MonthlyCharges, dtype: float64\n"
          ]
        },
        {
          "output_type": "display_data",
          "data": {
            "text/plain": [
              "<Figure size 432x288 with 1 Axes>"
            ],
            "image/png": "[encoded data removed]"
          },
          "metadata": {
            "needs_background": "light"
          }
        },
        {
          "output_type": "stream",
          "name": "stdout",
          "text": [
            "TotalCharges:\n",
            "count   7032.000\n",
            "mean    2283.300\n",
            "std     2266.771\n",
            "min       18.800\n",
            "5%        49.605\n",
            "10%       84.600\n",
            "20%      267.070\n",
            "30%      551.995\n",
            "40%      944.170\n",
            "50%     1397.475\n",
            "60%     2048.950\n",
            "70%     3141.130\n",
            "80%     4475.410\n",
            "90%     5976.640\n",
            "95%     6923.590\n",
            "99%     8039.883\n",
            "max     8684.800\n",
            "Name: TotalCharges, dtype: float64\n"
          ]
        },
        {
          "output_type": "display_data",
          "data": {
            "text/plain": [
              "<Figure size 432x288 with 1 Axes>"
            ],
            "image/png": "[encoded data removed]"
          },
          "metadata": {
            "needs_background": "light"
          }
        }
      ]
    },
    {
      "cell_type": "markdown",
      "source": [
        "## Analysis of the Target Variable"
      ],
      "metadata": {
        "id": "8fpis0e9V0Yd"
      }
    },
    {
      "cell_type": "code",
      "source": [
        "def target_summary_with_cat(dataframe, target, categorical_col, plot=False):\n",
        "    print(pd.DataFrame({\"TARGET_MEAN\": dataframe.groupby(categorical_col)[target].mean()}), end=\"\\n\\n\\n\")\n",
        "    if plot:\n",
        "      prop_by_independent = pd.crosstab(df[categorical_col], df['Churn']).apply(lambda x: x/x.sum()*100, axis=1)\n",
        "      prop_by_independent.plot(kind='bar', stacked=True)\n",
        "      plt.legend(loc=\"upper right\", title='Churn', fancybox=True)\n",
        "      plt.title('Proportion of observations by ' + categorical_col,  fontsize=16 )\n",
        "      plt.tick_params(rotation='auto')\n",
        "      plt.show(block=True)\n"
      ],
      "metadata": {
        "id": "sDOKvXChWF4n"
      },
      "execution_count": null,
      "outputs": []
    },
    {
      "cell_type": "code",
      "source": [
        "for col in cat_cols:\n",
        "    target_summary_with_cat(df, \"Churn\", col, plot=True)"
      ],
      "metadata": {
        "colab": {
          "base_uri": "https://localhost:8080/",
          "height": 1000
        },
        "id": "Drrj5yZ_WfKM",
        "outputId": "fbf95b49-7bb6-4f42-9eb3-6c21ad590e85"
      },
      "execution_count": null,
      "outputs": [
        {
          "output_type": "stream",
          "name": "stdout",
          "text": [
            "        TARGET_MEAN\n",
            "gender             \n",
            "Female        0.269\n",
            "Male          0.262\n",
            "\n",
            "\n"
          ]
        },
        {
          "output_type": "display_data",
          "data": {
            "text/plain": [
              "<Figure size 432x288 with 1 Axes>"
            ],
            "image/png": "[encoded data removed]"
          },
          "metadata": {
            "needs_background": "light"
          }
        },
        {
          "output_type": "stream",
          "name": "stdout",
          "text": [
            "         TARGET_MEAN\n",
            "Partner             \n",
            "No             0.330\n",
            "Yes            0.197\n",
            "\n",
            "\n"
          ]
        },
        {
          "output_type": "display_data",
          "data": {
            "text/plain": [
              "<Figure size 432x288 with 1 Axes>"
            ],
            "image/png": "[encoded data removed]"
          },
          "metadata": {
            "needs_background": "light"
          }
        },
        {
          "output_type": "stream",
          "name": "stdout",
          "text": [
            "            TARGET_MEAN\n",
            "Dependents             \n",
            "No                0.313\n",
            "Yes               0.155\n",
            "\n",
            "\n"
          ]
        },
        {
          "output_type": "display_data",
          "data": {
            "text/plain": [
              "<Figure size 432x288 with 1 Axes>"
            ],
            "image/png": "[encoded data removed]"
          },
          "metadata": {
            "needs_background": "light"
          }
        },
        {
          "output_type": "stream",
          "name": "stdout",
          "text": [
            "              TARGET_MEAN\n",
            "PhoneService             \n",
            "No                  0.249\n",
            "Yes                 0.267\n",
            "\n",
            "\n"
          ]
        },
        {
          "output_type": "display_data",
          "data": {
            "text/plain": [
              "<Figure size 432x288 with 1 Axes>"
            ],
            "image/png": "[encoded data removed]"
          },
          "metadata": {
            "needs_background": "light"
          }
        },
        {
          "output_type": "stream",
          "name": "stdout",
          "text": [
            "                  TARGET_MEAN\n",
            "MultipleLines                \n",
            "No                      0.250\n",
            "No phone service        0.249\n",
            "Yes                     0.286\n",
            "\n",
            "\n"
          ]
        },
        {
          "output_type": "display_data",
          "data": {
            "text/plain": [
              "<Figure size 432x288 with 1 Axes>"
            ],
            "image/png": "[encoded data removed]"
          },
          "metadata": {
            "needs_background": "light"
          }
        },
        {
          "output_type": "stream",
          "name": "stdout",
          "text": [
            "                 TARGET_MEAN\n",
            "InternetService             \n",
            "DSL                    0.190\n",
            "Fiber optic            0.419\n",
            "No                     0.074\n",
            "\n",
            "\n"
          ]
        },
        {
          "output_type": "display_data",
          "data": {
            "text/plain": [
              "<Figure size 432x288 with 1 Axes>"
            ],
            "image/png": "[encoded data removed]"
          },
          "metadata": {
            "needs_background": "light"
          }
        },
        {
          "output_type": "stream",
          "name": "stdout",
          "text": [
            "                     TARGET_MEAN\n",
            "OnlineSecurity                  \n",
            "No                         0.418\n",
            "No internet service        0.074\n",
            "Yes                        0.146\n",
            "\n",
            "\n"
          ]
        },
        {
          "output_type": "display_data",
          "data": {
            "text/plain": [
              "<Figure size 432x288 with 1 Axes>"
            ],
            "image/png": "[encoded data removed]"
          },
          "metadata": {
            "needs_background": "light"
          }
        },
        {
          "output_type": "stream",
          "name": "stdout",
          "text": [
            "                     TARGET_MEAN\n",
            "OnlineBackup                    \n",
            "No                         0.399\n",
            "No internet service        0.074\n",
            "Yes                        0.215\n",
            "\n",
            "\n"
          ]
        },
        {
          "output_type": "display_data",
          "data": {
            "text/plain": [
              "<Figure size 432x288 with 1 Axes>"
            ],
            "image/png": "[encoded data removed]"
          },
          "metadata": {
            "needs_background": "light"
          }
        },
        {
          "output_type": "stream",
          "name": "stdout",
          "text": [
            "                     TARGET_MEAN\n",
            "DeviceProtection                \n",
            "No                         0.391\n",
            "No internet service        0.074\n",
            "Yes                        0.225\n",
            "\n",
            "\n"
          ]
        },
        {
          "output_type": "display_data",
          "data": {
            "text/plain": [
              "<Figure size 432x288 with 1 Axes>"
            ],
            "image/png": "[encoded data removed]"
          },
          "metadata": {
            "needs_background": "light"
          }
        },
        {
          "output_type": "stream",
          "name": "stdout",
          "text": [
            "                     TARGET_MEAN\n",
            "TechSupport                     \n",
            "No                         0.416\n",
            "No internet service        0.074\n",
            "Yes                        0.152\n",
            "\n",
            "\n"
          ]
        },
        {
          "output_type": "display_data",
          "data": {
            "text/plain": [
              "<Figure size 432x288 with 1 Axes>"
            ],
            "image/png": "[encoded data removed]"
          },
          "metadata": {
            "needs_background": "light"
          }
        },
        {
          "output_type": "stream",
          "name": "stdout",
          "text": [
            "                     TARGET_MEAN\n",
            "StreamingTV                     \n",
            "No                         0.335\n",
            "No internet service        0.074\n",
            "Yes                        0.301\n",
            "\n",
            "\n"
          ]
        },
        {
          "output_type": "display_data",
          "data": {
            "text/plain": [
              "<Figure size 432x288 with 1 Axes>"
            ],
            "image/png": "[encoded data removed]"
          },
          "metadata": {
            "needs_background": "light"
          }
        },
        {
          "output_type": "stream",
          "name": "stdout",
          "text": [
            "                     TARGET_MEAN\n",
            "StreamingMovies                 \n",
            "No                         0.337\n",
            "No internet service        0.074\n",
            "Yes                        0.299\n",
            "\n",
            "\n"
          ]
        },
        {
          "output_type": "display_data",
          "data": {
            "text/plain": [
              "<Figure size 432x288 with 1 Axes>"
            ],
            "image/png": "[encoded data removed]"
          },
          "metadata": {
            "needs_background": "light"
          }
        },
        {
          "output_type": "stream",
          "name": "stdout",
          "text": [
            "                TARGET_MEAN\n",
            "Contract                   \n",
            "Month-to-month        0.427\n",
            "One year              0.113\n",
            "Two year              0.028\n",
            "\n",
            "\n"
          ]
        },
        {
          "output_type": "display_data",
          "data": {
            "text/plain": [
              "<Figure size 432x288 with 1 Axes>"
            ],
            "image/png": "[encoded data removed]"
          },
          "metadata": {
            "needs_background": "light"
          }
        },
        {
          "output_type": "stream",
          "name": "stdout",
          "text": [
            "                  TARGET_MEAN\n",
            "PaperlessBilling             \n",
            "No                      0.163\n",
            "Yes                     0.336\n",
            "\n",
            "\n"
          ]
        },
        {
          "output_type": "display_data",
          "data": {
            "text/plain": [
              "<Figure size 432x288 with 1 Axes>"
            ],
            "image/png": "[encoded data removed]"
          },
          "metadata": {
            "needs_background": "light"
          }
        },
        {
          "output_type": "stream",
          "name": "stdout",
          "text": [
            "                           TARGET_MEAN\n",
            "PaymentMethod                         \n",
            "Bank transfer (automatic)        0.167\n",
            "Credit card (automatic)          0.152\n",
            "Electronic check                 0.453\n",
            "Mailed check                     0.191\n",
            "\n",
            "\n"
          ]
        },
        {
          "output_type": "display_data",
          "data": {
            "text/plain": [
              "<Figure size 432x288 with 1 Axes>"
            ],
            "image/png": "[encoded data removed]"
          },
          "metadata": {
            "needs_background": "light"
          }
        },
        {
          "output_type": "stream",
          "name": "stdout",
          "text": [
            "               TARGET_MEAN\n",
            "SeniorCitizen             \n",
            "0                    0.236\n",
            "1                    0.417\n",
            "\n",
            "\n"
          ]
        },
        {
          "output_type": "display_data",
          "data": {
            "text/plain": [
              "<Figure size 432x288 with 1 Axes>"
            ],
            "image/png": "[encoded data removed]"
          },
          "metadata": {
            "needs_background": "light"
          }
        },
        {
          "output_type": "stream",
          "name": "stdout",
          "text": [
            "       TARGET_MEAN\n",
            "Churn             \n",
            "0            0.000\n",
            "1            1.000\n",
            "\n",
            "\n"
          ]
        },
        {
          "output_type": "display_data",
          "data": {
            "text/plain": [
              "<Figure size 432x288 with 1 Axes>"
            ],
            "image/png": "[encoded data removed]"
          },
          "metadata": {
            "needs_background": "light"
          }
        }
      ]
    },
    {
      "cell_type": "code",
      "source": [
        "def target_summary_with_num(dataframe, target, numerical_col):\n",
        "    print(dataframe.groupby(target).agg({numerical_col: \"mean\"}), end=\"\\n\\n\\n\")\n"
      ],
      "metadata": {
        "id": "WzCngwcgW0My"
      },
      "execution_count": null,
      "outputs": []
    },
    {
      "cell_type": "code",
      "source": [
        "for col in num_cols:\n",
        "    target_summary_with_num(df, \"Churn\", col)"
      ],
      "metadata": {
        "colab": {
          "base_uri": "https://localhost:8080/"
        },
        "id": "lbf1s4GYW4HP",
        "outputId": "4b2dcaa3-d615-4c95-961a-4315d51c9769"
      },
      "execution_count": null,
      "outputs": [
        {
          "output_type": "stream",
          "name": "stdout",
          "text": [
            "       tenure\n",
            "Churn        \n",
            "0      37.570\n",
            "1      17.979\n",
            "\n",
            "\n",
            "       MonthlyCharges\n",
            "Churn                \n",
            "0              61.265\n",
            "1              74.441\n",
            "\n",
            "\n",
            "       TotalCharges\n",
            "Churn              \n",
            "0          2555.344\n",
            "1          1531.796\n",
            "\n",
            "\n"
          ]
        }
      ]
    },
    {
      "cell_type": "markdown",
      "source": [
        "## Corelation Analysis"
      ],
      "metadata": {
        "id": "G6tKwIuja9ZM"
      }
    },
    {
      "cell_type": "code",
      "source": [
        "corr_matrix = df[num_cols].corr()\n",
        "corr_matrix"
      ],
      "metadata": {
        "colab": {
          "base_uri": "https://localhost:8080/",
          "height": 143
        },
        "id": "xAnM2MyNbBJQ",
        "outputId": "722bc1ee-fd73-4777-fed4-feb4506ffcd9"
      },
      "execution_count": null,
      "outputs": [
        {
          "output_type": "execute_result",
          "data": {
            "text/plain": [
              "                tenure  MonthlyCharges  TotalCharges\n",
              "tenure           1.000           0.248         0.826\n",
              "MonthlyCharges   0.248           1.000         0.651\n",
              "TotalCharges     0.826           0.651         1.000"
            ],
            "text/html": [
              "\n",
              "  <div id=\"df-33d816e6-5631-477e-aa79-99d86270d5a9\">\n",
              "    <div class=\"colab-df-container\">\n",
              "      <div>\n",
              "<style scoped>\n",
              "    .dataframe tbody tr th:only-of-type {\n",
              "        vertical-align: middle;\n",
              "    }\n",
              "\n",
              "    .dataframe tbody tr th {\n",
              "        vertical-align: top;\n",
              "    }\n",
              "\n",
              "    .dataframe thead th {\n",
              "        text-align: right;\n",
              "    }\n",
              "</style>\n",
              "<table border=\"1\" class=\"dataframe\">\n",
              "  <thead>\n",
              "    <tr style=\"text-align: right;\">\n",
              "      <th></th>\n",
              "      <th>tenure</th>\n",
              "      <th>MonthlyCharges</th>\n",
              "      <th>TotalCharges</th>\n",
              "    </tr>\n",
              "  </thead>\n",
              "  <tbody>\n",
              "    <tr>\n",
              "      <th>tenure</th>\n",
              "      <td>1.000</td>\n",
              "      <td>0.248</td>\n",
              "      <td>0.826</td>\n",
              "    </tr>\n",
              "    <tr>\n",
              "      <th>MonthlyCharges</th>\n",
              "      <td>0.248</td>\n",
              "      <td>1.000</td>\n",
              "      <td>0.651</td>\n",
              "    </tr>\n",
              "    <tr>\n",
              "      <th>TotalCharges</th>\n",
              "      <td>0.826</td>\n",
              "      <td>0.651</td>\n",
              "      <td>1.000</td>\n",
              "    </tr>\n",
              "  </tbody>\n",
              "</table>\n",
              "</div>\n",
              "      <button class=\"colab-df-convert\" onclick=\"convertToInteractive('df-33d816e6-5631-477e-aa79-99d86270d5a9')\"\n",
              "              title=\"Convert this dataframe to an interactive table.\"\n",
              "              style=\"display:none;\">\n",
              "        \n",
              "  <svg xmlns=\"http://www.w3.org/2000/svg\" height=\"24px\"viewBox=\"0 0 24 24\"\n",
              "       width=\"24px\">\n",
              "    <path d=\"M0 0h24v24H0V0z\" fill=\"none\"/>\n",
              "    <path d=\"M18.56 5.44l.94 2.06.94-2.06 2.06-.94-2.06-.94-.94-2.06-.94 2.06-2.06.94zm-11 1L8.5 8.5l.94-2.06 2.06-.94-2.06-.94L8.5 2.5l-.94 2.06-2.06.94zm10 10l.94 2.06.94-2.06 2.06-.94-2.06-.94-.94-2.06-.94 2.06-2.06.94z\"/><path d=\"M17.41 7.96l-1.37-1.37c-.4-.4-.92-.59-1.43-.59-.52 0-1.04.2-1.43.59L10.3 9.45l-7.72 7.72c-.78.78-.78 2.05 0 2.83L4 21.41c.39.39.9.59 1.41.59.51 0 1.02-.2 1.41-.59l7.78-7.78 2.81-2.81c.8-.78.8-2.07 0-2.86zM5.41 20L4 18.59l7.72-7.72 1.47 1.35L5.41 20z\"/>\n",
              "  </svg>\n",
              "      </button>\n",
              "      \n",
              "  <style>\n",
              "    .colab-df-container {\n",
              "      display:flex;\n",
              "      flex-wrap:wrap;\n",
              "      gap: 12px;\n",
              "    }\n",
              "\n",
              "    .colab-df-convert {\n",
              "      background-color: #E8F0FE;\n",
              "      border: none;\n",
              "      border-radius: 50%;\n",
              "      cursor: pointer;\n",
              "      display: none;\n",
              "      fill: #1967D2;\n",
              "      height: 32px;\n",
              "      padding: 0 0 0 0;\n",
              "      width: 32px;\n",
              "    }\n",
              "\n",
              "    .colab-df-convert:hover {\n",
              "      background-color: #E2EBFA;\n",
              "      box-shadow: 0px 1px 2px rgba(60, 64, 67, 0.3), 0px 1px 3px 1px rgba(60, 64, 67, 0.15);\n",
              "      fill: #174EA6;\n",
              "    }\n",
              "\n",
              "    [theme=dark] .colab-df-convert {\n",
              "      background-color: #3B4455;\n",
              "      fill: #D2E3FC;\n",
              "    }\n",
              "\n",
              "    [theme=dark] .colab-df-convert:hover {\n",
              "      background-color: #434B5C;\n",
              "      box-shadow: 0px 1px 3px 1px rgba(0, 0, 0, 0.15);\n",
              "      filter: drop-shadow(0px 1px 2px rgba(0, 0, 0, 0.3));\n",
              "      fill: #FFFFFF;\n",
              "    }\n",
              "  </style>\n",
              "\n",
              "      <script>\n",
              "        const buttonEl =\n",
              "          document.querySelector('#df-33d816e6-5631-477e-aa79-99d86270d5a9 button.colab-df-convert');\n",
              "        buttonEl.style.display =\n",
              "          google.colab.kernel.accessAllowed ? 'block' : 'none';\n",
              "\n",
              "        async function convertToInteractive(key) {\n",
              "          const element = document.querySelector('#df-33d816e6-5631-477e-aa79-99d86270d5a9');\n",
              "          const dataTable =\n",
              "            await google.colab.kernel.invokeFunction('convertToInteractive',\n",
              "                                                     [key], {});\n",
              "          if (!dataTable) return;\n",
              "\n",
              "          const docLinkHtml = 'Like what you see? Visit the ' +\n",
              "            '<a target=\"_blank\" href=https://colab.research.google.com/notebooks/data_table.ipynb>data table notebook</a>'\n",
              "            + ' to learn more about interactive tables.';\n",
              "          element.innerHTML = '';\n",
              "          dataTable['output_type'] = 'display_data';\n",
              "          await google.colab.output.renderOutput(dataTable, element);\n",
              "          const docLink = document.createElement('div');\n",
              "          docLink.innerHTML = docLinkHtml;\n",
              "          element.appendChild(docLink);\n",
              "        }\n",
              "      </script>\n",
              "    </div>\n",
              "  </div>\n",
              "  "
            ]
          },
          "metadata": {},
          "execution_count": 96
        }
      ]
    },
    {
      "cell_type": "code",
      "source": [
        "# Correlation between all variables\n",
        "plt.figure(5, figsize=(25, 10))\n",
        "corr = df.apply(lambda x: pd.factorize(x)[0]).corr()\n",
        "mask = np.triu(np.ones_like(corr, dtype=bool))\n",
        "ax = sns.heatmap(corr, mask=mask, xticklabels=corr.columns, yticklabels=corr.columns, annot=True, linewidths=.2, cmap='coolwarm', vmin=-1, vmax=1)"
      ],
      "metadata": {
        "colab": {
          "base_uri": "https://localhost:8080/",
          "height": 433
        },
        "id": "N5tIb0jObb--",
        "outputId": "ed2527cc-39b5-469a-e151-f4260c5bfd99"
      },
      "execution_count": null,
      "outputs": [
        {
          "output_type": "display_data",
          "data": {
            "text/plain": [
              "<Figure size 1800x720 with 2 Axes>"
            ],
            "image/png": "[encoded data removed]"
          },
          "metadata": {}
        }
      ]
    },
    {
      "cell_type": "markdown",
      "source": [
        "# Feature Engineering"
      ],
      "metadata": {
        "id": "qsiuFU6qW7IW"
      }
    },
    {
      "cell_type": "markdown",
      "source": [
        "## Outliers"
      ],
      "metadata": {
        "id": "dtFDZkT5XCoJ"
      }
    },
    {
      "cell_type": "code",
      "source": [
        "def outlier_thresholds(dataframe, col_name, q1=0.25, q3=0.75):\n",
        "    quartile1 = dataframe[col_name].quantile(q1)\n",
        "    quartile3 = dataframe[col_name].quantile(q3)\n",
        "    interquantile_range = quartile3 - quartile1\n",
        "    up_limit = quartile3 + 1.5 * interquantile_range\n",
        "    low_limit = quartile1 - 1.5 * interquantile_range\n",
        "    return low_limit, up_limit"
      ],
      "metadata": {
        "id": "yA61a4I-XFm5"
      },
      "execution_count": null,
      "outputs": []
    },
    {
      "cell_type": "code",
      "source": [
        "def check_outlier(dataframe, col_name):\n",
        "    low_limit, up_limit = outlier_thresholds(dataframe, col_name)\n",
        "    if dataframe[(dataframe[col_name] > up_limit) | (dataframe[col_name] < low_limit)].any(axis=None):\n",
        "        return True\n",
        "    else:\n",
        "        return False"
      ],
      "metadata": {
        "id": "SqlC3AeOXKMT"
      },
      "execution_count": null,
      "outputs": []
    },
    {
      "cell_type": "code",
      "source": [
        "for col in num_cols:\n",
        "    if check_outlier(df, col):\n",
        "        print(\"##########################################\")\n",
        "        print(\"Outlier tresholds for \", col, \" is \", outlier_thresholds(df, col))\n",
        "        print(\"There is at least one outlier data in\",col, \"\\n\")\n",
        "\n",
        "    else:\n",
        "        print(\"##########################################\")\n",
        "        print(\"Outlier tresholds for \", col, \" is \", outlier_thresholds(df, col))\n",
        "        print(\"There is no outlier data in\",col,\"\\n\")    \n",
        "    sns.boxplot(x=df[col])\n",
        "    plt.show(block=True)"
      ],
      "metadata": {
        "colab": {
          "base_uri": "https://localhost:8080/",
          "height": 1000
        },
        "id": "9lSrB9yyXMiD",
        "outputId": "ac81e484-1e5b-4d7d-84e9-17b09ed9af91"
      },
      "execution_count": null,
      "outputs": [
        {
          "output_type": "stream",
          "name": "stdout",
          "text": [
            "##########################################\n",
            "Outlier tresholds for  tenure  is  (-60.0, 124.0)\n",
            "There is no outlier data in tenure \n",
            "\n"
          ]
        },
        {
          "output_type": "display_data",
          "data": {
            "text/plain": [
              "<Figure size 432x288 with 1 Axes>"
            ],
            "image/png": "[encoded data removed]"
          },
          "metadata": {
            "needs_background": "light"
          }
        },
        {
          "output_type": "stream",
          "name": "stdout",
          "text": [
            "##########################################\n",
            "Outlier tresholds for  MonthlyCharges  is  (-46.02499999999999, 171.375)\n",
            "There is no outlier data in MonthlyCharges \n",
            "\n"
          ]
        },
        {
          "output_type": "display_data",
          "data": {
            "text/plain": [
              "<Figure size 432x288 with 1 Axes>"
            ],
            "image/png": "[encoded data removed]"
          },
          "metadata": {
            "needs_background": "light"
          }
        },
        {
          "output_type": "stream",
          "name": "stdout",
          "text": [
            "##########################################\n",
            "Outlier tresholds for  TotalCharges  is  (-4688.481250000001, 8884.66875)\n",
            "There is no outlier data in TotalCharges \n",
            "\n"
          ]
        },
        {
          "output_type": "display_data",
          "data": {
            "text/plain": [
              "<Figure size 432x288 with 1 Axes>"
            ],
            "image/png": "[encoded data removed]"
          },
          "metadata": {
            "needs_background": "light"
          }
        }
      ]
    },
    {
      "cell_type": "markdown",
      "source": [
        "## Missing Values"
      ],
      "metadata": {
        "id": "xT1NS8RaX_IN"
      }
    },
    {
      "cell_type": "code",
      "source": [
        "def missing_values_table(dataframe, na_name=False):\n",
        "    na_columns = [col for col in dataframe.columns if dataframe[col].isnull().sum() > 0]\n",
        "\n",
        "    n_miss = dataframe[na_columns].isnull().sum().sort_values(ascending=False)\n",
        "    ratio = (dataframe[na_columns].isnull().sum() / dataframe.shape[0] * 100).sort_values(ascending=False)\n",
        "    missing_df = pd.concat([n_miss, np.round(ratio, 2)], axis=1, keys=['n_miss', 'ratio'])\n",
        "    print(missing_df, end=\"\\n\")\n",
        "\n",
        "    if na_name:\n",
        "        return na_columns"
      ],
      "metadata": {
        "id": "zQ4u_GddYBlB"
      },
      "execution_count": null,
      "outputs": []
    },
    {
      "cell_type": "code",
      "source": [
        "na_cols = missing_values_table(df, True)"
      ],
      "metadata": {
        "colab": {
          "base_uri": "https://localhost:8080/"
        },
        "id": "LEZ1nCuCYGrq",
        "outputId": "635e720c-c8c7-4a7f-d74c-d46d7d8e0d87"
      },
      "execution_count": null,
      "outputs": [
        {
          "output_type": "stream",
          "name": "stdout",
          "text": [
            "              n_miss  ratio\n",
            "TotalCharges      11  0.160\n"
          ]
        }
      ]
    },
    {
      "cell_type": "code",
      "source": [
        "# Observations that TotalCharges is NaN\n",
        "df[df[\"TotalCharges\"].isna()].index"
      ],
      "metadata": {
        "colab": {
          "base_uri": "https://localhost:8080/"
        },
        "id": "JcWeyqxcYuGW",
        "outputId": "4847978c-79ad-41de-957f-b614cfa324de"
      },
      "execution_count": null,
      "outputs": [
        {
          "output_type": "execute_result",
          "data": {
            "text/plain": [
              "Int64Index([488, 753, 936, 1082, 1340, 3331, 3826, 4380, 5218, 6670, 6754], dtype='int64')"
            ]
          },
          "metadata": {},
          "execution_count": 147
        }
      ]
    },
    {
      "cell_type": "code",
      "source": [
        "# Observations that TotalCharges is NaN\n",
        "df[df[\"tenure\"]==0].index"
      ],
      "metadata": {
        "colab": {
          "base_uri": "https://localhost:8080/"
        },
        "id": "Zr3wQcPmZ4_m",
        "outputId": "b1103a87-3106-4e36-fff0-1836bf1308d5"
      },
      "execution_count": null,
      "outputs": [
        {
          "output_type": "execute_result",
          "data": {
            "text/plain": [
              "Int64Index([488, 753, 936, 1082, 1340, 3331, 3826, 4380, 5218, 6670, 6754], dtype='int64')"
            ]
          },
          "metadata": {},
          "execution_count": 243
        }
      ]
    },
    {
      "cell_type": "markdown",
      "source": [
        "There are only 11 missing values for the TotalCharges column. Actually, this values are exclusive for customers with zero tenure. Due to the fact that the customer never paid the business anything, it is possible to deduce that they are missing. This missing values will be substituted with zero."
      ],
      "metadata": {
        "id": "uvP0OPuyZgRW"
      }
    },
    {
      "cell_type": "code",
      "source": [
        "df[\"TotalCharges\"] = df[\"TotalCharges\"].fillna(0)"
      ],
      "metadata": {
        "id": "tI1ORkp1Z2id"
      },
      "execution_count": null,
      "outputs": []
    },
    {
      "cell_type": "code",
      "source": [
        "missing_values_table(df, True)"
      ],
      "metadata": {
        "colab": {
          "base_uri": "https://localhost:8080/"
        },
        "id": "NxPlswEzaykN",
        "outputId": "3cf94ce8-f558-43c3-deff-8bb85be66c21"
      },
      "execution_count": null,
      "outputs": [
        {
          "output_type": "stream",
          "name": "stdout",
          "text": [
            "Empty DataFrame\n",
            "Columns: [n_miss, ratio]\n",
            "Index: []\n"
          ]
        },
        {
          "output_type": "execute_result",
          "data": {
            "text/plain": [
              "[]"
            ]
          },
          "metadata": {},
          "execution_count": 94
        }
      ]
    },
    {
      "cell_type": "markdown",
      "source": [
        "## Feature Extraction"
      ],
      "metadata": {
        "id": "nVDw1SYRmKiK"
      }
    },
    {
      "cell_type": "code",
      "source": [
        "# annual categorical variable from tenure variable\n",
        "df.loc[(df[\"tenure\"]>=0) & (df[\"tenure\"]<=12),\"NEW_tenure_year\"] = \"0-1 Year\"\n",
        "df.loc[(df[\"tenure\"]>12) & (df[\"tenure\"]<=24),\"NEW_tenure_year\"] = \"1-2 Year\"\n",
        "df.loc[(df[\"tenure\"]>24) & (df[\"tenure\"]<=36),\"NEW_tenure_year\"] = \"2-3 Year\"\n",
        "df.loc[(df[\"tenure\"]>36) & (df[\"tenure\"]<=48),\"NEW_tenure_year\"] = \"3-4 Year\"\n",
        "df.loc[(df[\"tenure\"]>48) & (df[\"tenure\"]<=60),\"NEW_tenure_year\"] = \"4-5 Year\"\n",
        "df.loc[(df[\"tenure\"]>60) & (df[\"tenure\"]<=72),\"NEW_tenure_year\"] = \"5-6 Year\""
      ],
      "metadata": {
        "id": "Lx_37SFEmMfg"
      },
      "execution_count": null,
      "outputs": []
    },
    {
      "cell_type": "code",
      "source": [
        "# mark as engaged any contract customers for 1 or 2 years.\n",
        "df[\"NEW_engaged\"] = df[\"Contract\"].apply(lambda x: 1 if x in [\"One year\",\"Two year\"] else 0)\n"
      ],
      "metadata": {
        "id": "nMgGmgPSn12f"
      },
      "execution_count": null,
      "outputs": []
    },
    {
      "cell_type": "code",
      "source": [
        "# total number of services received by the customer\n",
        "df['NEW_total_services'] = (df[['PhoneService', 'InternetService', 'OnlineSecurity',\n",
        "                                       'OnlineBackup', 'DeviceProtection', 'TechSupport',\n",
        "                                       'StreamingTV', 'StreamingMovies']]== 'Yes').sum(axis=1)\n"
      ],
      "metadata": {
        "id": "aYJHMYBhoDoN"
      },
      "execution_count": null,
      "outputs": []
    },
    {
      "cell_type": "code",
      "source": [
        "# customers who subscribe to streaming services\n",
        "df[\"NEW_FLAG_streaming\"] = df.apply(lambda x: 1 if (x[\"StreamingTV\"] == \"Yes\") or (x[\"StreamingMovies\"] == \"Yes\") else 0, axis=1)\n"
      ],
      "metadata": {
        "id": "48mxDWtQoOv6"
      },
      "execution_count": null,
      "outputs": []
    },
    {
      "cell_type": "code",
      "source": [
        "# Customers with longer tenures than a year and lower total charges on average\n",
        "df[\"NEW_not_risky\"] = df.apply(lambda x : 1 if (x[\"NEW_engaged\"] == 1) & (x[\"TotalCharges\"] < df[\"TotalCharges\"].mean()) else 0,  axis = 1)"
      ],
      "metadata": {
        "id": "VTkJjOZKosmf"
      },
      "execution_count": null,
      "outputs": []
    },
    {
      "cell_type": "code",
      "source": [
        "# Customers with shorter tenures than a year and higher total charges on average\n",
        "df[\"NEW_risky\"] = df.apply(lambda x : 1 if (x[\"NEW_engaged\"] == 0) & (x[\"TotalCharges\"] > df[\"TotalCharges\"].mean()) else 0,  axis = 1)"
      ],
      "metadata": {
        "id": "erAcrtV1pI7g"
      },
      "execution_count": null,
      "outputs": []
    },
    {
      "cell_type": "code",
      "source": [
        "# Customers with shorter tenures than a year and higher total charges on average\n",
        "df[\"NEW_check_and_senior\"] = df.apply(lambda x : 1 if (x[\"PaymentMethod\"] == \"Electronic check\") or (x[\"PaymentMethod\"] == \"Mailed check\") & x[\"SeniorCitizen\"]== 1 else 0,  axis = 1)"
      ],
      "metadata": {
        "id": "-oNiYYYKpmlW"
      },
      "execution_count": null,
      "outputs": []
    },
    {
      "cell_type": "code",
      "source": [
        "# Customers with shorter tenures than a year and higher total charges on average\n",
        "df[\"NEW_tenure_higher_charges\"] = df.apply(lambda x : 1 if (x[\"NEW_engaged\"] == 0) & (x[\"MonthlyCharges\"] > df[\"MonthlyCharges\"].mean()) else 0,  axis = 1)"
      ],
      "metadata": {
        "id": "G0qxz2reucVJ"
      },
      "execution_count": null,
      "outputs": []
    },
    {
      "cell_type": "code",
      "source": [
        "# People who do not receive any support, backup or protection\n",
        "df[\"NEW_noProt\"] = df.apply(lambda x: 1 if (x[\"OnlineBackup\"] != \"Yes\") or (x[\"DeviceProtection\"] != \"Yes\") or (x[\"TechSupport\"] != \"Yes\") else 0, axis=1)\n"
      ],
      "metadata": {
        "id": "zoPbK6TCu1fy"
      },
      "execution_count": null,
      "outputs": []
    },
    {
      "cell_type": "code",
      "source": [
        "# Young customers with monthly contracts\n",
        "df[\"NEW_Young_Not_Engaged\"] = df.apply(lambda x: 1 if (x[\"NEW_engaged\"] == 0) and (x[\"SeniorCitizen\"] == 0) else 0, axis=1)\n"
      ],
      "metadata": {
        "id": "3nn4LarNu9z-"
      },
      "execution_count": null,
      "outputs": []
    },
    {
      "cell_type": "code",
      "source": [
        "# flag autopayment\n",
        "df[\"NEW_FLAG_autopayment\"] = df[\"PaymentMethod\"].apply(lambda x: 1 if x in [\"Bank transfer (automatic)\",\"Credit card (automatic)\"] else 0)\n"
      ],
      "metadata": {
        "id": "aECzneyGvI5s"
      },
      "execution_count": null,
      "outputs": []
    },
    {
      "cell_type": "code",
      "source": [
        "# avg payment monthly\n",
        "df[\"NEW_avg_charges\"] = df[\"TotalCharges\"] / (df[\"tenure\"] + 1)\n"
      ],
      "metadata": {
        "id": "_iNNEpvDvYev"
      },
      "execution_count": null,
      "outputs": []
    },
    {
      "cell_type": "code",
      "source": [
        "# price increase relative to avg price\n",
        "df[\"NEW_increase\"] = df[\"NEW_avg_charges\"] / df[\"MonthlyCharges\"]\n"
      ],
      "metadata": {
        "id": "kQUPBd7dvREi"
      },
      "execution_count": null,
      "outputs": []
    },
    {
      "cell_type": "markdown",
      "source": [
        "## Encoding"
      ],
      "metadata": {
        "id": "Sx0Y3gr5a1jK"
      }
    },
    {
      "cell_type": "code",
      "source": [
        "# label encoding\n",
        "def label_encoder(dataframe, binary_col):\n",
        "    labelencoder = LabelEncoder()\n",
        "    dataframe[binary_col] = labelencoder.fit_transform(dataframe[binary_col])\n",
        "    return dataframe"
      ],
      "metadata": {
        "id": "JRAIQOapa3xQ"
      },
      "execution_count": null,
      "outputs": []
    },
    {
      "cell_type": "code",
      "source": [
        "binary_cols = [col for col in df.columns if (df[col].dtype not in [\"int64\", \"float64\"]) and (df[col].nunique() == 2)]\n",
        "binary_cols"
      ],
      "metadata": {
        "colab": {
          "base_uri": "https://localhost:8080/"
        },
        "id": "NAoRgdVec7gP",
        "outputId": "8a5eeaa5-8d51-416b-e56a-d3cdefbf206b"
      },
      "execution_count": null,
      "outputs": [
        {
          "output_type": "execute_result",
          "data": {
            "text/plain": [
              "['gender', 'Partner', 'Dependents', 'PhoneService', 'PaperlessBilling']"
            ]
          },
          "metadata": {},
          "execution_count": 259
        }
      ]
    },
    {
      "cell_type": "code",
      "source": [
        "for col in binary_cols:\n",
        "    df = label_encoder(df, col)"
      ],
      "metadata": {
        "id": "tsOHFvGSc-qt"
      },
      "execution_count": null,
      "outputs": []
    },
    {
      "cell_type": "code",
      "source": [
        "df.head()"
      ],
      "metadata": {
        "colab": {
          "base_uri": "https://localhost:8080/",
          "height": 357
        },
        "id": "MyOfEyV0dBIz",
        "outputId": "d8f46f2c-4c1f-47c5-8ea1-6d73fd2e0fe4"
      },
      "execution_count": null,
      "outputs": [
        {
          "output_type": "execute_result",
          "data": {
            "text/plain": [
              "   customerID  gender  SeniorCitizen  Partner  Dependents  tenure  PhoneService     MultipleLines InternetService OnlineSecurity OnlineBackup DeviceProtection TechSupport StreamingTV StreamingMovies        Contract  PaperlessBilling              PaymentMethod  MonthlyCharges  TotalCharges  Churn NEW_tenure_year  NEW_engaged  NEW_total_services  NEW_FLAG_streaming  NEW_not_risky  NEW_risky  NEW_check_and_senior  NEW_tenure_higher_charges  NEW_noProt  NEW_Young_Not_Engaged  NEW_FLAG_autopayment  \\\n",
              "0  7590-VHVEG       0              0        1           0       1             0  No phone service             DSL             No          Yes               No          No          No              No  Month-to-month                 1           Electronic check          29.850        29.850      0        0-1 Year            0                   1                   0              0          0                     1                          0           1                      1                     0   \n",
              "1  5575-GNVDE       1              0        0           0      34             1                No             DSL            Yes           No              Yes          No          No              No        One year                 0               Mailed check          56.950      1889.500      0        2-3 Year            1                   3                   0              1          0                     0                          0           1                      0                     0   \n",
              "2  3668-QPYBK       1              0        0           0       2             1                No             DSL            Yes          Yes               No          No          No              No  Month-to-month                 1               Mailed check          53.850       108.150      1        0-1 Year            0                   3                   0              0          0                     0                          0           1                      1                     0   \n",
              "3  7795-CFOCW       1              0        0           0      45             0  No phone service             DSL            Yes           No              Yes         Yes          No              No        One year                 0  Bank transfer (automatic)          42.300      1840.750      0        3-4 Year            1                   3                   0              1          0                     0                          0           1                      0                     1   \n",
              "4  9237-HQITU       0              0        0           0       2             1                No     Fiber optic             No           No               No          No          No              No  Month-to-month                 1           Electronic check          70.700       151.650      1        0-1 Year            0                   1                   0              0          0                     1                          1           1                      1                     0   \n",
              "\n",
              "   NEW_avg_charges  NEW_increase  \n",
              "0           14.925         0.500  \n",
              "1           53.986         0.948  \n",
              "2           36.050         0.669  \n",
              "3           40.016         0.946  \n",
              "4           50.550         0.715  "
            ],
            "text/html": [
              "\n",
              "  <div id=\"df-4eb5f59a-9eb0-4922-9b22-d3f8f5ecdefc\">\n",
              "    <div class=\"colab-df-container\">\n",
              "      <div>\n",
              "<style scoped>\n",
              "    .dataframe tbody tr th:only-of-type {\n",
              "        vertical-align: middle;\n",
              "    }\n",
              "\n",
              "    .dataframe tbody tr th {\n",
              "        vertical-align: top;\n",
              "    }\n",
              "\n",
              "    .dataframe thead th {\n",
              "        text-align: right;\n",
              "    }\n",
              "</style>\n",
              "<table border=\"1\" class=\"dataframe\">\n",
              "  <thead>\n",
              "    <tr style=\"text-align: right;\">\n",
              "      <th></th>\n",
              "      <th>customerID</th>\n",
              "      <th>gender</th>\n",
              "      <th>SeniorCitizen</th>\n",
              "      <th>Partner</th>\n",
              "      <th>Dependents</th>\n",
              "      <th>tenure</th>\n",
              "      <th>PhoneService</th>\n",
              "      <th>MultipleLines</th>\n",
              "      <th>InternetService</th>\n",
              "      <th>OnlineSecurity</th>\n",
              "      <th>OnlineBackup</th>\n",
              "      <th>DeviceProtection</th>\n",
              "      <th>TechSupport</th>\n",
              "      <th>StreamingTV</th>\n",
              "      <th>StreamingMovies</th>\n",
              "      <th>Contract</th>\n",
              "      <th>PaperlessBilling</th>\n",
              "      <th>PaymentMethod</th>\n",
              "      <th>MonthlyCharges</th>\n",
              "      <th>TotalCharges</th>\n",
              "      <th>Churn</th>\n",
              "      <th>NEW_tenure_year</th>\n",
              "      <th>NEW_engaged</th>\n",
              "      <th>NEW_total_services</th>\n",
              "      <th>NEW_FLAG_streaming</th>\n",
              "      <th>NEW_not_risky</th>\n",
              "      <th>NEW_risky</th>\n",
              "      <th>NEW_check_and_senior</th>\n",
              "      <th>NEW_tenure_higher_charges</th>\n",
              "      <th>NEW_noProt</th>\n",
              "      <th>NEW_Young_Not_Engaged</th>\n",
              "      <th>NEW_FLAG_autopayment</th>\n",
              "      <th>NEW_avg_charges</th>\n",
              "      <th>NEW_increase</th>\n",
              "    </tr>\n",
              "  </thead>\n",
              "  <tbody>\n",
              "    <tr>\n",
              "      <th>0</th>\n",
              "      <td>7590-VHVEG</td>\n",
              "      <td>0</td>\n",
              "      <td>0</td>\n",
              "      <td>1</td>\n",
              "      <td>0</td>\n",
              "      <td>1</td>\n",
              "      <td>0</td>\n",
              "      <td>No phone service</td>\n",
              "      <td>DSL</td>\n",
              "      <td>No</td>\n",
              "      <td>Yes</td>\n",
              "      <td>No</td>\n",
              "      <td>No</td>\n",
              "      <td>No</td>\n",
              "      <td>No</td>\n",
              "      <td>Month-to-month</td>\n",
              "      <td>1</td>\n",
              "      <td>Electronic check</td>\n",
              "      <td>29.850</td>\n",
              "      <td>29.850</td>\n",
              "      <td>0</td>\n",
              "      <td>0-1 Year</td>\n",
              "      <td>0</td>\n",
              "      <td>1</td>\n",
              "      <td>0</td>\n",
              "      <td>0</td>\n",
              "      <td>0</td>\n",
              "      <td>1</td>\n",
              "      <td>0</td>\n",
              "      <td>1</td>\n",
              "      <td>1</td>\n",
              "      <td>0</td>\n",
              "      <td>14.925</td>\n",
              "      <td>0.500</td>\n",
              "    </tr>\n",
              "    <tr>\n",
              "      <th>1</th>\n",
              "      <td>5575-GNVDE</td>\n",
              "      <td>1</td>\n",
              "      <td>0</td>\n",
              "      <td>0</td>\n",
              "      <td>0</td>\n",
              "      <td>34</td>\n",
              "      <td>1</td>\n",
              "      <td>No</td>\n",
              "      <td>DSL</td>\n",
              "      <td>Yes</td>\n",
              "      <td>No</td>\n",
              "      <td>Yes</td>\n",
              "      <td>No</td>\n",
              "      <td>No</td>\n",
              "      <td>No</td>\n",
              "      <td>One year</td>\n",
              "      <td>0</td>\n",
              "      <td>Mailed check</td>\n",
              "      <td>56.950</td>\n",
              "      <td>1889.500</td>\n",
              "      <td>0</td>\n",
              "      <td>2-3 Year</td>\n",
              "      <td>1</td>\n",
              "      <td>3</td>\n",
              "      <td>0</td>\n",
              "      <td>1</td>\n",
              "      <td>0</td>\n",
              "      <td>0</td>\n",
              "      <td>0</td>\n",
              "      <td>1</td>\n",
              "      <td>0</td>\n",
              "      <td>0</td>\n",
              "      <td>53.986</td>\n",
              "      <td>0.948</td>\n",
              "    </tr>\n",
              "    <tr>\n",
              "      <th>2</th>\n",
              "      <td>3668-QPYBK</td>\n",
              "      <td>1</td>\n",
              "      <td>0</td>\n",
              "      <td>0</td>\n",
              "      <td>0</td>\n",
              "      <td>2</td>\n",
              "      <td>1</td>\n",
              "      <td>No</td>\n",
              "      <td>DSL</td>\n",
              "      <td>Yes</td>\n",
              "      <td>Yes</td>\n",
              "      <td>No</td>\n",
              "      <td>No</td>\n",
              "      <td>No</td>\n",
              "      <td>No</td>\n",
              "      <td>Month-to-month</td>\n",
              "      <td>1</td>\n",
              "      <td>Mailed check</td>\n",
              "      <td>53.850</td>\n",
              "      <td>108.150</td>\n",
              "      <td>1</td>\n",
              "      <td>0-1 Year</td>\n",
              "      <td>0</td>\n",
              "      <td>3</td>\n",
              "      <td>0</td>\n",
              "      <td>0</td>\n",
              "      <td>0</td>\n",
              "      <td>0</td>\n",
              "      <td>0</td>\n",
              "      <td>1</td>\n",
              "      <td>1</td>\n",
              "      <td>0</td>\n",
              "      <td>36.050</td>\n",
              "      <td>0.669</td>\n",
              "    </tr>\n",
              "    <tr>\n",
              "      <th>3</th>\n",
              "      <td>7795-CFOCW</td>\n",
              "      <td>1</td>\n",
              "      <td>0</td>\n",
              "      <td>0</td>\n",
              "      <td>0</td>\n",
              "      <td>45</td>\n",
              "      <td>0</td>\n",
              "      <td>No phone service</td>\n",
              "      <td>DSL</td>\n",
              "      <td>Yes</td>\n",
              "      <td>No</td>\n",
              "      <td>Yes</td>\n",
              "      <td>Yes</td>\n",
              "      <td>No</td>\n",
              "      <td>No</td>\n",
              "      <td>One year</td>\n",
              "      <td>0</td>\n",
              "      <td>Bank transfer (automatic)</td>\n",
              "      <td>42.300</td>\n",
              "      <td>1840.750</td>\n",
              "      <td>0</td>\n",
              "      <td>3-4 Year</td>\n",
              "      <td>1</td>\n",
              "      <td>3</td>\n",
              "      <td>0</td>\n",
              "      <td>1</td>\n",
              "      <td>0</td>\n",
              "      <td>0</td>\n",
              "      <td>0</td>\n",
              "      <td>1</td>\n",
              "      <td>0</td>\n",
              "      <td>1</td>\n",
              "      <td>40.016</td>\n",
              "      <td>0.946</td>\n",
              "    </tr>\n",
              "    <tr>\n",
              "      <th>4</th>\n",
              "      <td>9237-HQITU</td>\n",
              "      <td>0</td>\n",
              "      <td>0</td>\n",
              "      <td>0</td>\n",
              "      <td>0</td>\n",
              "      <td>2</td>\n",
              "      <td>1</td>\n",
              "      <td>No</td>\n",
              "      <td>Fiber optic</td>\n",
              "      <td>No</td>\n",
              "      <td>No</td>\n",
              "      <td>No</td>\n",
              "      <td>No</td>\n",
              "      <td>No</td>\n",
              "      <td>No</td>\n",
              "      <td>Month-to-month</td>\n",
              "      <td>1</td>\n",
              "      <td>Electronic check</td>\n",
              "      <td>70.700</td>\n",
              "      <td>151.650</td>\n",
              "      <td>1</td>\n",
              "      <td>0-1 Year</td>\n",
              "      <td>0</td>\n",
              "      <td>1</td>\n",
              "      <td>0</td>\n",
              "      <td>0</td>\n",
              "      <td>0</td>\n",
              "      <td>1</td>\n",
              "      <td>1</td>\n",
              "      <td>1</td>\n",
              "      <td>1</td>\n",
              "      <td>0</td>\n",
              "      <td>50.550</td>\n",
              "      <td>0.715</td>\n",
              "    </tr>\n",
              "  </tbody>\n",
              "</table>\n",
              "</div>\n",
              "      <button class=\"colab-df-convert\" onclick=\"convertToInteractive('df-4eb5f59a-9eb0-4922-9b22-d3f8f5ecdefc')\"\n",
              "              title=\"Convert this dataframe to an interactive table.\"\n",
              "              style=\"display:none;\">\n",
              "        \n",
              "  <svg xmlns=\"http://www.w3.org/2000/svg\" height=\"24px\"viewBox=\"0 0 24 24\"\n",
              "       width=\"24px\">\n",
              "    <path d=\"M0 0h24v24H0V0z\" fill=\"none\"/>\n",
              "    <path d=\"M18.56 5.44l.94 2.06.94-2.06 2.06-.94-2.06-.94-.94-2.06-.94 2.06-2.06.94zm-11 1L8.5 8.5l.94-2.06 2.06-.94-2.06-.94L8.5 2.5l-.94 2.06-2.06.94zm10 10l.94 2.06.94-2.06 2.06-.94-2.06-.94-.94-2.06-.94 2.06-2.06.94z\"/><path d=\"M17.41 7.96l-1.37-1.37c-.4-.4-.92-.59-1.43-.59-.52 0-1.04.2-1.43.59L10.3 9.45l-7.72 7.72c-.78.78-.78 2.05 0 2.83L4 21.41c.39.39.9.59 1.41.59.51 0 1.02-.2 1.41-.59l7.78-7.78 2.81-2.81c.8-.78.8-2.07 0-2.86zM5.41 20L4 18.59l7.72-7.72 1.47 1.35L5.41 20z\"/>\n",
              "  </svg>\n",
              "      </button>\n",
              "      \n",
              "  <style>\n",
              "    .colab-df-container {\n",
              "      display:flex;\n",
              "      flex-wrap:wrap;\n",
              "      gap: 12px;\n",
              "    }\n",
              "\n",
              "    .colab-df-convert {\n",
              "      background-color: #E8F0FE;\n",
              "      border: none;\n",
              "      border-radius: 50%;\n",
              "      cursor: pointer;\n",
              "      display: none;\n",
              "      fill: #1967D2;\n",
              "      height: 32px;\n",
              "      padding: 0 0 0 0;\n",
              "      width: 32px;\n",
              "    }\n",
              "\n",
              "    .colab-df-convert:hover {\n",
              "      background-color: #E2EBFA;\n",
              "      box-shadow: 0px 1px 2px rgba(60, 64, 67, 0.3), 0px 1px 3px 1px rgba(60, 64, 67, 0.15);\n",
              "      fill: #174EA6;\n",
              "    }\n",
              "\n",
              "    [theme=dark] .colab-df-convert {\n",
              "      background-color: #3B4455;\n",
              "      fill: #D2E3FC;\n",
              "    }\n",
              "\n",
              "    [theme=dark] .colab-df-convert:hover {\n",
              "      background-color: #434B5C;\n",
              "      box-shadow: 0px 1px 3px 1px rgba(0, 0, 0, 0.15);\n",
              "      filter: drop-shadow(0px 1px 2px rgba(0, 0, 0, 0.3));\n",
              "      fill: #FFFFFF;\n",
              "    }\n",
              "  </style>\n",
              "\n",
              "      <script>\n",
              "        const buttonEl =\n",
              "          document.querySelector('#df-4eb5f59a-9eb0-4922-9b22-d3f8f5ecdefc button.colab-df-convert');\n",
              "        buttonEl.style.display =\n",
              "          google.colab.kernel.accessAllowed ? 'block' : 'none';\n",
              "\n",
              "        async function convertToInteractive(key) {\n",
              "          const element = document.querySelector('#df-4eb5f59a-9eb0-4922-9b22-d3f8f5ecdefc');\n",
              "          const dataTable =\n",
              "            await google.colab.kernel.invokeFunction('convertToInteractive',\n",
              "                                                     [key], {});\n",
              "          if (!dataTable) return;\n",
              "\n",
              "          const docLinkHtml = 'Like what you see? Visit the ' +\n",
              "            '<a target=\"_blank\" href=https://colab.research.google.com/notebooks/data_table.ipynb>data table notebook</a>'\n",
              "            + ' to learn more about interactive tables.';\n",
              "          element.innerHTML = '';\n",
              "          dataTable['output_type'] = 'display_data';\n",
              "          await google.colab.output.renderOutput(dataTable, element);\n",
              "          const docLink = document.createElement('div');\n",
              "          docLink.innerHTML = docLinkHtml;\n",
              "          element.appendChild(docLink);\n",
              "        }\n",
              "      </script>\n",
              "    </div>\n",
              "  </div>\n",
              "  "
            ]
          },
          "metadata": {},
          "execution_count": 261
        }
      ]
    },
    {
      "cell_type": "code",
      "source": [
        "# one-hot encoding\n",
        "def one_hot_encoder(dataframe, ohe_cols, drop_first=True):\n",
        "    dataframe = pd.get_dummies(dataframe, columns=ohe_cols, drop_first=drop_first)\n",
        "    return dataframe"
      ],
      "metadata": {
        "id": "2UOFwxC9dLJO"
      },
      "execution_count": null,
      "outputs": []
    },
    {
      "cell_type": "code",
      "source": [
        "ohe_cols = [col for col in df.columns if 10 >= df[col].nunique() > 2]\n",
        "ohe_cols"
      ],
      "metadata": {
        "colab": {
          "base_uri": "https://localhost:8080/"
        },
        "id": "HlHw121RdO3T",
        "outputId": "3491212d-7c3e-444b-dc36-c10258a45389"
      },
      "execution_count": null,
      "outputs": [
        {
          "output_type": "execute_result",
          "data": {
            "text/plain": [
              "['MultipleLines',\n",
              " 'InternetService',\n",
              " 'OnlineSecurity',\n",
              " 'OnlineBackup',\n",
              " 'DeviceProtection',\n",
              " 'TechSupport',\n",
              " 'StreamingTV',\n",
              " 'StreamingMovies',\n",
              " 'Contract',\n",
              " 'PaymentMethod',\n",
              " 'NEW_tenure_year',\n",
              " 'NEW_total_services']"
            ]
          },
          "metadata": {},
          "execution_count": 263
        }
      ]
    },
    {
      "cell_type": "code",
      "source": [
        "df = one_hot_encoder(df, ohe_cols, drop_first=True)"
      ],
      "metadata": {
        "id": "-yRj0wEsdQvV"
      },
      "execution_count": null,
      "outputs": []
    },
    {
      "cell_type": "code",
      "source": [
        "df.head()"
      ],
      "metadata": {
        "colab": {
          "base_uri": "https://localhost:8080/",
          "height": 392
        },
        "id": "BjaKixeOgPZw",
        "outputId": "96ec3570-fc47-4646-ec45-b4f3c9018327"
      },
      "execution_count": null,
      "outputs": [
        {
          "output_type": "execute_result",
          "data": {
            "text/plain": [
              "   customerID  gender  SeniorCitizen  Partner  Dependents  tenure  PhoneService  PaperlessBilling  MonthlyCharges  TotalCharges  Churn  NEW_engaged  NEW_FLAG_streaming  NEW_not_risky  NEW_risky  NEW_check_and_senior  NEW_tenure_higher_charges  NEW_noProt  NEW_Young_Not_Engaged  NEW_FLAG_autopayment  NEW_avg_charges  NEW_increase  MultipleLines_No phone service  MultipleLines_Yes  InternetService_Fiber optic  InternetService_No  OnlineSecurity_No internet service  OnlineSecurity_Yes  \\\n",
              "0  7590-VHVEG       0              0        1           0       1             0                 1          29.850        29.850      0            0                   0              0          0                     1                          0           1                      1                     0           14.925         0.500                               1                  0                            0                   0                                   0                   0   \n",
              "1  5575-GNVDE       1              0        0           0      34             1                 0          56.950      1889.500      0            1                   0              1          0                     0                          0           1                      0                     0           53.986         0.948                               0                  0                            0                   0                                   0                   1   \n",
              "2  3668-QPYBK       1              0        0           0       2             1                 1          53.850       108.150      1            0                   0              0          0                     0                          0           1                      1                     0           36.050         0.669                               0                  0                            0                   0                                   0                   1   \n",
              "3  7795-CFOCW       1              0        0           0      45             0                 0          42.300      1840.750      0            1                   0              1          0                     0                          0           1                      0                     1           40.016         0.946                               1                  0                            0                   0                                   0                   1   \n",
              "4  9237-HQITU       0              0        0           0       2             1                 1          70.700       151.650      1            0                   0              0          0                     1                          1           1                      1                     0           50.550         0.715                               0                  0                            1                   0                                   0                   0   \n",
              "\n",
              "   OnlineBackup_No internet service  OnlineBackup_Yes  DeviceProtection_No internet service  DeviceProtection_Yes  TechSupport_No internet service  TechSupport_Yes  StreamingTV_No internet service  StreamingTV_Yes  StreamingMovies_No internet service  StreamingMovies_Yes  Contract_One year  Contract_Two year  PaymentMethod_Credit card (automatic)  PaymentMethod_Electronic check  PaymentMethod_Mailed check  NEW_tenure_year_1-2 Year  NEW_tenure_year_2-3 Year  NEW_tenure_year_3-4 Year  \\\n",
              "0                                 0                 1                                     0                     0                                0                0                                0                0                                    0                    0                  0                  0                                      0                               1                           0                         0                         0                         0   \n",
              "1                                 0                 0                                     0                     1                                0                0                                0                0                                    0                    0                  1                  0                                      0                               0                           1                         0                         1                         0   \n",
              "2                                 0                 1                                     0                     0                                0                0                                0                0                                    0                    0                  0                  0                                      0                               0                           1                         0                         0                         0   \n",
              "3                                 0                 0                                     0                     1                                0                1                                0                0                                    0                    0                  1                  0                                      0                               0                           0                         0                         0                         1   \n",
              "4                                 0                 0                                     0                     0                                0                0                                0                0                                    0                    0                  0                  0                                      0                               1                           0                         0                         0                         0   \n",
              "\n",
              "   NEW_tenure_year_4-5 Year  NEW_tenure_year_5-6 Year  NEW_total_services_1  NEW_total_services_2  NEW_total_services_3  NEW_total_services_4  NEW_total_services_5  NEW_total_services_6  NEW_total_services_7  \n",
              "0                         0                         0                     1                     0                     0                     0                     0                     0                     0  \n",
              "1                         0                         0                     0                     0                     1                     0                     0                     0                     0  \n",
              "2                         0                         0                     0                     0                     1                     0                     0                     0                     0  \n",
              "3                         0                         0                     0                     0                     1                     0                     0                     0                     0  \n",
              "4                         0                         0                     1                     0                     0                     0                     0                     0                     0  "
            ],
            "text/html": [
              "\n",
              "  <div id=\"df-017c356e-a0a5-42e6-aeff-61e7123b46e0\">\n",
              "    <div class=\"colab-df-container\">\n",
              "      <div>\n",
              "<style scoped>\n",
              "    .dataframe tbody tr th:only-of-type {\n",
              "        vertical-align: middle;\n",
              "    }\n",
              "\n",
              "    .dataframe tbody tr th {\n",
              "        vertical-align: top;\n",
              "    }\n",
              "\n",
              "    .dataframe thead th {\n",
              "        text-align: right;\n",
              "    }\n",
              "</style>\n",
              "<table border=\"1\" class=\"dataframe\">\n",
              "  <thead>\n",
              "    <tr style=\"text-align: right;\">\n",
              "      <th></th>\n",
              "      <th>customerID</th>\n",
              "      <th>gender</th>\n",
              "      <th>SeniorCitizen</th>\n",
              "      <th>Partner</th>\n",
              "      <th>Dependents</th>\n",
              "      <th>tenure</th>\n",
              "      <th>PhoneService</th>\n",
              "      <th>PaperlessBilling</th>\n",
              "      <th>MonthlyCharges</th>\n",
              "      <th>TotalCharges</th>\n",
              "      <th>Churn</th>\n",
              "      <th>NEW_engaged</th>\n",
              "      <th>NEW_FLAG_streaming</th>\n",
              "      <th>NEW_not_risky</th>\n",
              "      <th>NEW_risky</th>\n",
              "      <th>NEW_check_and_senior</th>\n",
              "      <th>NEW_tenure_higher_charges</th>\n",
              "      <th>NEW_noProt</th>\n",
              "      <th>NEW_Young_Not_Engaged</th>\n",
              "      <th>NEW_FLAG_autopayment</th>\n",
              "      <th>NEW_avg_charges</th>\n",
              "      <th>NEW_increase</th>\n",
              "      <th>MultipleLines_No phone service</th>\n",
              "      <th>MultipleLines_Yes</th>\n",
              "      <th>InternetService_Fiber optic</th>\n",
              "      <th>InternetService_No</th>\n",
              "      <th>OnlineSecurity_No internet service</th>\n",
              "      <th>OnlineSecurity_Yes</th>\n",
              "      <th>OnlineBackup_No internet service</th>\n",
              "      <th>OnlineBackup_Yes</th>\n",
              "      <th>DeviceProtection_No internet service</th>\n",
              "      <th>DeviceProtection_Yes</th>\n",
              "      <th>TechSupport_No internet service</th>\n",
              "      <th>TechSupport_Yes</th>\n",
              "      <th>StreamingTV_No internet service</th>\n",
              "      <th>StreamingTV_Yes</th>\n",
              "      <th>StreamingMovies_No internet service</th>\n",
              "      <th>StreamingMovies_Yes</th>\n",
              "      <th>Contract_One year</th>\n",
              "      <th>Contract_Two year</th>\n",
              "      <th>PaymentMethod_Credit card (automatic)</th>\n",
              "      <th>PaymentMethod_Electronic check</th>\n",
              "      <th>PaymentMethod_Mailed check</th>\n",
              "      <th>NEW_tenure_year_1-2 Year</th>\n",
              "      <th>NEW_tenure_year_2-3 Year</th>\n",
              "      <th>NEW_tenure_year_3-4 Year</th>\n",
              "      <th>NEW_tenure_year_4-5 Year</th>\n",
              "      <th>NEW_tenure_year_5-6 Year</th>\n",
              "      <th>NEW_total_services_1</th>\n",
              "      <th>NEW_total_services_2</th>\n",
              "      <th>NEW_total_services_3</th>\n",
              "      <th>NEW_total_services_4</th>\n",
              "      <th>NEW_total_services_5</th>\n",
              "      <th>NEW_total_services_6</th>\n",
              "      <th>NEW_total_services_7</th>\n",
              "    </tr>\n",
              "  </thead>\n",
              "  <tbody>\n",
              "    <tr>\n",
              "      <th>0</th>\n",
              "      <td>7590-VHVEG</td>\n",
              "      <td>0</td>\n",
              "      <td>0</td>\n",
              "      <td>1</td>\n",
              "      <td>0</td>\n",
              "      <td>1</td>\n",
              "      <td>0</td>\n",
              "      <td>1</td>\n",
              "      <td>29.850</td>\n",
              "      <td>29.850</td>\n",
              "      <td>0</td>\n",
              "      <td>0</td>\n",
              "      <td>0</td>\n",
              "      <td>0</td>\n",
              "      <td>0</td>\n",
              "      <td>1</td>\n",
              "      <td>0</td>\n",
              "      <td>1</td>\n",
              "      <td>1</td>\n",
              "      <td>0</td>\n",
              "      <td>14.925</td>\n",
              "      <td>0.500</td>\n",
              "      <td>1</td>\n",
              "      <td>0</td>\n",
              "      <td>0</td>\n",
              "      <td>0</td>\n",
              "      <td>0</td>\n",
              "      <td>0</td>\n",
              "      <td>0</td>\n",
              "      <td>1</td>\n",
              "      <td>0</td>\n",
              "      <td>0</td>\n",
              "      <td>0</td>\n",
              "      <td>0</td>\n",
              "      <td>0</td>\n",
              "      <td>0</td>\n",
              "      <td>0</td>\n",
              "      <td>0</td>\n",
              "      <td>0</td>\n",
              "      <td>0</td>\n",
              "      <td>0</td>\n",
              "      <td>1</td>\n",
              "      <td>0</td>\n",
              "      <td>0</td>\n",
              "      <td>0</td>\n",
              "      <td>0</td>\n",
              "      <td>0</td>\n",
              "      <td>0</td>\n",
              "      <td>1</td>\n",
              "      <td>0</td>\n",
              "      <td>0</td>\n",
              "      <td>0</td>\n",
              "      <td>0</td>\n",
              "      <td>0</td>\n",
              "      <td>0</td>\n",
              "    </tr>\n",
              "    <tr>\n",
              "      <th>1</th>\n",
              "      <td>5575-GNVDE</td>\n",
              "      <td>1</td>\n",
              "      <td>0</td>\n",
              "      <td>0</td>\n",
              "      <td>0</td>\n",
              "      <td>34</td>\n",
              "      <td>1</td>\n",
              "      <td>0</td>\n",
              "      <td>56.950</td>\n",
              "      <td>1889.500</td>\n",
              "      <td>0</td>\n",
              "      <td>1</td>\n",
              "      <td>0</td>\n",
              "      <td>1</td>\n",
              "      <td>0</td>\n",
              "      <td>0</td>\n",
              "      <td>0</td>\n",
              "      <td>1</td>\n",
              "      <td>0</td>\n",
              "      <td>0</td>\n",
              "      <td>53.986</td>\n",
              "      <td>0.948</td>\n",
              "      <td>0</td>\n",
              "      <td>0</td>\n",
              "      <td>0</td>\n",
              "      <td>0</td>\n",
              "      <td>0</td>\n",
              "      <td>1</td>\n",
              "      <td>0</td>\n",
              "      <td>0</td>\n",
              "      <td>0</td>\n",
              "      <td>1</td>\n",
              "      <td>0</td>\n",
              "      <td>0</td>\n",
              "      <td>0</td>\n",
              "      <td>0</td>\n",
              "      <td>0</td>\n",
              "      <td>0</td>\n",
              "      <td>1</td>\n",
              "      <td>0</td>\n",
              "      <td>0</td>\n",
              "      <td>0</td>\n",
              "      <td>1</td>\n",
              "      <td>0</td>\n",
              "      <td>1</td>\n",
              "      <td>0</td>\n",
              "      <td>0</td>\n",
              "      <td>0</td>\n",
              "      <td>0</td>\n",
              "      <td>0</td>\n",
              "      <td>1</td>\n",
              "      <td>0</td>\n",
              "      <td>0</td>\n",
              "      <td>0</td>\n",
              "      <td>0</td>\n",
              "    </tr>\n",
              "    <tr>\n",
              "      <th>2</th>\n",
              "      <td>3668-QPYBK</td>\n",
              "      <td>1</td>\n",
              "      <td>0</td>\n",
              "      <td>0</td>\n",
              "      <td>0</td>\n",
              "      <td>2</td>\n",
              "      <td>1</td>\n",
              "      <td>1</td>\n",
              "      <td>53.850</td>\n",
              "      <td>108.150</td>\n",
              "      <td>1</td>\n",
              "      <td>0</td>\n",
              "      <td>0</td>\n",
              "      <td>0</td>\n",
              "      <td>0</td>\n",
              "      <td>0</td>\n",
              "      <td>0</td>\n",
              "      <td>1</td>\n",
              "      <td>1</td>\n",
              "      <td>0</td>\n",
              "      <td>36.050</td>\n",
              "      <td>0.669</td>\n",
              "      <td>0</td>\n",
              "      <td>0</td>\n",
              "      <td>0</td>\n",
              "      <td>0</td>\n",
              "      <td>0</td>\n",
              "      <td>1</td>\n",
              "      <td>0</td>\n",
              "      <td>1</td>\n",
              "      <td>0</td>\n",
              "      <td>0</td>\n",
              "      <td>0</td>\n",
              "      <td>0</td>\n",
              "      <td>0</td>\n",
              "      <td>0</td>\n",
              "      <td>0</td>\n",
              "      <td>0</td>\n",
              "      <td>0</td>\n",
              "      <td>0</td>\n",
              "      <td>0</td>\n",
              "      <td>0</td>\n",
              "      <td>1</td>\n",
              "      <td>0</td>\n",
              "      <td>0</td>\n",
              "      <td>0</td>\n",
              "      <td>0</td>\n",
              "      <td>0</td>\n",
              "      <td>0</td>\n",
              "      <td>0</td>\n",
              "      <td>1</td>\n",
              "      <td>0</td>\n",
              "      <td>0</td>\n",
              "      <td>0</td>\n",
              "      <td>0</td>\n",
              "    </tr>\n",
              "    <tr>\n",
              "      <th>3</th>\n",
              "      <td>7795-CFOCW</td>\n",
              "      <td>1</td>\n",
              "      <td>0</td>\n",
              "      <td>0</td>\n",
              "      <td>0</td>\n",
              "      <td>45</td>\n",
              "      <td>0</td>\n",
              "      <td>0</td>\n",
              "      <td>42.300</td>\n",
              "      <td>1840.750</td>\n",
              "      <td>0</td>\n",
              "      <td>1</td>\n",
              "      <td>0</td>\n",
              "      <td>1</td>\n",
              "      <td>0</td>\n",
              "      <td>0</td>\n",
              "      <td>0</td>\n",
              "      <td>1</td>\n",
              "      <td>0</td>\n",
              "      <td>1</td>\n",
              "      <td>40.016</td>\n",
              "      <td>0.946</td>\n",
              "      <td>1</td>\n",
              "      <td>0</td>\n",
              "      <td>0</td>\n",
              "      <td>0</td>\n",
              "      <td>0</td>\n",
              "      <td>1</td>\n",
              "      <td>0</td>\n",
              "      <td>0</td>\n",
              "      <td>0</td>\n",
              "      <td>1</td>\n",
              "      <td>0</td>\n",
              "      <td>1</td>\n",
              "      <td>0</td>\n",
              "      <td>0</td>\n",
              "      <td>0</td>\n",
              "      <td>0</td>\n",
              "      <td>1</td>\n",
              "      <td>0</td>\n",
              "      <td>0</td>\n",
              "      <td>0</td>\n",
              "      <td>0</td>\n",
              "      <td>0</td>\n",
              "      <td>0</td>\n",
              "      <td>1</td>\n",
              "      <td>0</td>\n",
              "      <td>0</td>\n",
              "      <td>0</td>\n",
              "      <td>0</td>\n",
              "      <td>1</td>\n",
              "      <td>0</td>\n",
              "      <td>0</td>\n",
              "      <td>0</td>\n",
              "      <td>0</td>\n",
              "    </tr>\n",
              "    <tr>\n",
              "      <th>4</th>\n",
              "      <td>9237-HQITU</td>\n",
              "      <td>0</td>\n",
              "      <td>0</td>\n",
              "      <td>0</td>\n",
              "      <td>0</td>\n",
              "      <td>2</td>\n",
              "      <td>1</td>\n",
              "      <td>1</td>\n",
              "      <td>70.700</td>\n",
              "      <td>151.650</td>\n",
              "      <td>1</td>\n",
              "      <td>0</td>\n",
              "      <td>0</td>\n",
              "      <td>0</td>\n",
              "      <td>0</td>\n",
              "      <td>1</td>\n",
              "      <td>1</td>\n",
              "      <td>1</td>\n",
              "      <td>1</td>\n",
              "      <td>0</td>\n",
              "      <td>50.550</td>\n",
              "      <td>0.715</td>\n",
              "      <td>0</td>\n",
              "      <td>0</td>\n",
              "      <td>1</td>\n",
              "      <td>0</td>\n",
              "      <td>0</td>\n",
              "      <td>0</td>\n",
              "      <td>0</td>\n",
              "      <td>0</td>\n",
              "      <td>0</td>\n",
              "      <td>0</td>\n",
              "      <td>0</td>\n",
              "      <td>0</td>\n",
              "      <td>0</td>\n",
              "      <td>0</td>\n",
              "      <td>0</td>\n",
              "      <td>0</td>\n",
              "      <td>0</td>\n",
              "      <td>0</td>\n",
              "      <td>0</td>\n",
              "      <td>1</td>\n",
              "      <td>0</td>\n",
              "      <td>0</td>\n",
              "      <td>0</td>\n",
              "      <td>0</td>\n",
              "      <td>0</td>\n",
              "      <td>0</td>\n",
              "      <td>1</td>\n",
              "      <td>0</td>\n",
              "      <td>0</td>\n",
              "      <td>0</td>\n",
              "      <td>0</td>\n",
              "      <td>0</td>\n",
              "      <td>0</td>\n",
              "    </tr>\n",
              "  </tbody>\n",
              "</table>\n",
              "</div>\n",
              "      <button class=\"colab-df-convert\" onclick=\"convertToInteractive('df-017c356e-a0a5-42e6-aeff-61e7123b46e0')\"\n",
              "              title=\"Convert this dataframe to an interactive table.\"\n",
              "              style=\"display:none;\">\n",
              "        \n",
              "  <svg xmlns=\"http://www.w3.org/2000/svg\" height=\"24px\"viewBox=\"0 0 24 24\"\n",
              "       width=\"24px\">\n",
              "    <path d=\"M0 0h24v24H0V0z\" fill=\"none\"/>\n",
              "    <path d=\"M18.56 5.44l.94 2.06.94-2.06 2.06-.94-2.06-.94-.94-2.06-.94 2.06-2.06.94zm-11 1L8.5 8.5l.94-2.06 2.06-.94-2.06-.94L8.5 2.5l-.94 2.06-2.06.94zm10 10l.94 2.06.94-2.06 2.06-.94-2.06-.94-.94-2.06-.94 2.06-2.06.94z\"/><path d=\"M17.41 7.96l-1.37-1.37c-.4-.4-.92-.59-1.43-.59-.52 0-1.04.2-1.43.59L10.3 9.45l-7.72 7.72c-.78.78-.78 2.05 0 2.83L4 21.41c.39.39.9.59 1.41.59.51 0 1.02-.2 1.41-.59l7.78-7.78 2.81-2.81c.8-.78.8-2.07 0-2.86zM5.41 20L4 18.59l7.72-7.72 1.47 1.35L5.41 20z\"/>\n",
              "  </svg>\n",
              "      </button>\n",
              "      \n",
              "  <style>\n",
              "    .colab-df-container {\n",
              "      display:flex;\n",
              "      flex-wrap:wrap;\n",
              "      gap: 12px;\n",
              "    }\n",
              "\n",
              "    .colab-df-convert {\n",
              "      background-color: #E8F0FE;\n",
              "      border: none;\n",
              "      border-radius: 50%;\n",
              "      cursor: pointer;\n",
              "      display: none;\n",
              "      fill: #1967D2;\n",
              "      height: 32px;\n",
              "      padding: 0 0 0 0;\n",
              "      width: 32px;\n",
              "    }\n",
              "\n",
              "    .colab-df-convert:hover {\n",
              "      background-color: #E2EBFA;\n",
              "      box-shadow: 0px 1px 2px rgba(60, 64, 67, 0.3), 0px 1px 3px 1px rgba(60, 64, 67, 0.15);\n",
              "      fill: #174EA6;\n",
              "    }\n",
              "\n",
              "    [theme=dark] .colab-df-convert {\n",
              "      background-color: #3B4455;\n",
              "      fill: #D2E3FC;\n",
              "    }\n",
              "\n",
              "    [theme=dark] .colab-df-convert:hover {\n",
              "      background-color: #434B5C;\n",
              "      box-shadow: 0px 1px 3px 1px rgba(0, 0, 0, 0.15);\n",
              "      filter: drop-shadow(0px 1px 2px rgba(0, 0, 0, 0.3));\n",
              "      fill: #FFFFFF;\n",
              "    }\n",
              "  </style>\n",
              "\n",
              "      <script>\n",
              "        const buttonEl =\n",
              "          document.querySelector('#df-017c356e-a0a5-42e6-aeff-61e7123b46e0 button.colab-df-convert');\n",
              "        buttonEl.style.display =\n",
              "          google.colab.kernel.accessAllowed ? 'block' : 'none';\n",
              "\n",
              "        async function convertToInteractive(key) {\n",
              "          const element = document.querySelector('#df-017c356e-a0a5-42e6-aeff-61e7123b46e0');\n",
              "          const dataTable =\n",
              "            await google.colab.kernel.invokeFunction('convertToInteractive',\n",
              "                                                     [key], {});\n",
              "          if (!dataTable) return;\n",
              "\n",
              "          const docLinkHtml = 'Like what you see? Visit the ' +\n",
              "            '<a target=\"_blank\" href=https://colab.research.google.com/notebooks/data_table.ipynb>data table notebook</a>'\n",
              "            + ' to learn more about interactive tables.';\n",
              "          element.innerHTML = '';\n",
              "          dataTable['output_type'] = 'display_data';\n",
              "          await google.colab.output.renderOutput(dataTable, element);\n",
              "          const docLink = document.createElement('div');\n",
              "          docLink.innerHTML = docLinkHtml;\n",
              "          element.appendChild(docLink);\n",
              "        }\n",
              "      </script>\n",
              "    </div>\n",
              "  </div>\n",
              "  "
            ]
          },
          "metadata": {},
          "execution_count": 265
        }
      ]
    },
    {
      "cell_type": "code",
      "source": [
        "# rare encoding\n",
        "\n",
        "def rare_analyser(dataframe, target, cat_cols):\n",
        "    for col in cat_cols:\n",
        "        print(col, \":\", len(dataframe[col].value_counts()))\n",
        "        print(pd.DataFrame({\"COUNT\": dataframe[col].value_counts(),\n",
        "                            \"RATIO\": dataframe[col].value_counts() / len(dataframe),\n",
        "                            \"TARGET_MEAN\": dataframe.groupby(col)[target].mean()}), end=\"\\n\\n\\n\")"
      ],
      "metadata": {
        "id": "564T56JXqreG"
      },
      "execution_count": null,
      "outputs": []
    },
    {
      "cell_type": "code",
      "source": [
        "def rare_encoder(dataframe, rare_perc):\n",
        "    temp_df = dataframe.copy()\n",
        "\n",
        "    rare_columns = [col for col in temp_df.columns if temp_df[col].dtypes == 'O'\n",
        "                    and (temp_df[col].value_counts() / len(temp_df) < rare_perc).any(axis=None)]\n",
        "\n",
        "    for var in rare_columns:\n",
        "        tmp = temp_df[var].value_counts() / len(temp_df)\n",
        "        rare_labels = tmp[tmp < rare_perc].index\n",
        "        temp_df[var] = np.where(temp_df[var].isin(rare_labels), 'Rare', temp_df[var])\n",
        "\n",
        "    return temp_df"
      ],
      "metadata": {
        "id": "AK5s-uRfqyAW"
      },
      "execution_count": null,
      "outputs": []
    },
    {
      "cell_type": "code",
      "source": [
        "df = rare_encoder(df, 0.01)"
      ],
      "metadata": {
        "id": "b1Tp8dVMq1-T"
      },
      "execution_count": null,
      "outputs": []
    },
    {
      "cell_type": "code",
      "source": [
        "df.head()"
      ],
      "metadata": {
        "colab": {
          "base_uri": "https://localhost:8080/",
          "height": 305
        },
        "id": "kYXyW9xfrA55",
        "outputId": "48010b0b-fafb-4dec-a120-8a9250b6c6a5"
      },
      "execution_count": null,
      "outputs": [
        {
          "output_type": "execute_result",
          "data": {
            "text/plain": [
              "  customerID  gender  SeniorCitizen  Partner  Dependents  tenure  PhoneService  PaperlessBilling  MonthlyCharges  TotalCharges  Churn  NEW_engaged  NEW_FLAG_streaming  NEW_not_risky  NEW_risky  NEW_check_and_senior  NEW_tenure_higher_charges  NEW_noProt  NEW_Young_Not_Engaged  NEW_FLAG_autopayment  NEW_avg_charges  NEW_increase  MultipleLines_No phone service  MultipleLines_Yes  InternetService_Fiber optic  InternetService_No  OnlineSecurity_No internet service  OnlineSecurity_Yes  \\\n",
              "0       Rare       0              0        1           0       1             0                 1          29.850        29.850      0            0                   0              0          0                     1                          0           1                      1                     0           14.925         0.500                               1                  0                            0                   0                                   0                   0   \n",
              "1       Rare       1              0        0           0      34             1                 0          56.950      1889.500      0            1                   0              1          0                     0                          0           1                      0                     0           53.986         0.948                               0                  0                            0                   0                                   0                   1   \n",
              "2       Rare       1              0        0           0       2             1                 1          53.850       108.150      1            0                   0              0          0                     0                          0           1                      1                     0           36.050         0.669                               0                  0                            0                   0                                   0                   1   \n",
              "3       Rare       1              0        0           0      45             0                 0          42.300      1840.750      0            1                   0              1          0                     0                          0           1                      0                     1           40.016         0.946                               1                  0                            0                   0                                   0                   1   \n",
              "4       Rare       0              0        0           0       2             1                 1          70.700       151.650      1            0                   0              0          0                     1                          1           1                      1                     0           50.550         0.715                               0                  0                            1                   0                                   0                   0   \n",
              "\n",
              "   OnlineBackup_No internet service  OnlineBackup_Yes  DeviceProtection_No internet service  DeviceProtection_Yes  TechSupport_No internet service  TechSupport_Yes  StreamingTV_No internet service  StreamingTV_Yes  StreamingMovies_No internet service  StreamingMovies_Yes  Contract_One year  Contract_Two year  PaymentMethod_Credit card (automatic)  PaymentMethod_Electronic check  PaymentMethod_Mailed check  NEW_tenure_year_1-2 Year  NEW_tenure_year_2-3 Year  NEW_tenure_year_3-4 Year  \\\n",
              "0                                 0                 1                                     0                     0                                0                0                                0                0                                    0                    0                  0                  0                                      0                               1                           0                         0                         0                         0   \n",
              "1                                 0                 0                                     0                     1                                0                0                                0                0                                    0                    0                  1                  0                                      0                               0                           1                         0                         1                         0   \n",
              "2                                 0                 1                                     0                     0                                0                0                                0                0                                    0                    0                  0                  0                                      0                               0                           1                         0                         0                         0   \n",
              "3                                 0                 0                                     0                     1                                0                1                                0                0                                    0                    0                  1                  0                                      0                               0                           0                         0                         0                         1   \n",
              "4                                 0                 0                                     0                     0                                0                0                                0                0                                    0                    0                  0                  0                                      0                               1                           0                         0                         0                         0   \n",
              "\n",
              "   NEW_tenure_year_4-5 Year  NEW_tenure_year_5-6 Year  NEW_total_services_1  NEW_total_services_2  NEW_total_services_3  NEW_total_services_4  NEW_total_services_5  NEW_total_services_6  NEW_total_services_7  \n",
              "0                         0                         0                     1                     0                     0                     0                     0                     0                     0  \n",
              "1                         0                         0                     0                     0                     1                     0                     0                     0                     0  \n",
              "2                         0                         0                     0                     0                     1                     0                     0                     0                     0  \n",
              "3                         0                         0                     0                     0                     1                     0                     0                     0                     0  \n",
              "4                         0                         0                     1                     0                     0                     0                     0                     0                     0  "
            ],
            "text/html": [
              "\n",
              "  <div id=\"df-727422c6-873d-4db6-80b1-f9be01113f09\">\n",
              "    <div class=\"colab-df-container\">\n",
              "      <div>\n",
              "<style scoped>\n",
              "    .dataframe tbody tr th:only-of-type {\n",
              "        vertical-align: middle;\n",
              "    }\n",
              "\n",
              "    .dataframe tbody tr th {\n",
              "        vertical-align: top;\n",
              "    }\n",
              "\n",
              "    .dataframe thead th {\n",
              "        text-align: right;\n",
              "    }\n",
              "</style>\n",
              "<table border=\"1\" class=\"dataframe\">\n",
              "  <thead>\n",
              "    <tr style=\"text-align: right;\">\n",
              "      <th></th>\n",
              "      <th>customerID</th>\n",
              "      <th>gender</th>\n",
              "      <th>SeniorCitizen</th>\n",
              "      <th>Partner</th>\n",
              "      <th>Dependents</th>\n",
              "      <th>tenure</th>\n",
              "      <th>PhoneService</th>\n",
              "      <th>PaperlessBilling</th>\n",
              "      <th>MonthlyCharges</th>\n",
              "      <th>TotalCharges</th>\n",
              "      <th>Churn</th>\n",
              "      <th>NEW_engaged</th>\n",
              "      <th>NEW_FLAG_streaming</th>\n",
              "      <th>NEW_not_risky</th>\n",
              "      <th>NEW_risky</th>\n",
              "      <th>NEW_check_and_senior</th>\n",
              "      <th>NEW_tenure_higher_charges</th>\n",
              "      <th>NEW_noProt</th>\n",
              "      <th>NEW_Young_Not_Engaged</th>\n",
              "      <th>NEW_FLAG_autopayment</th>\n",
              "      <th>NEW_avg_charges</th>\n",
              "      <th>NEW_increase</th>\n",
              "      <th>MultipleLines_No phone service</th>\n",
              "      <th>MultipleLines_Yes</th>\n",
              "      <th>InternetService_Fiber optic</th>\n",
              "      <th>InternetService_No</th>\n",
              "      <th>OnlineSecurity_No internet service</th>\n",
              "      <th>OnlineSecurity_Yes</th>\n",
              "      <th>OnlineBackup_No internet service</th>\n",
              "      <th>OnlineBackup_Yes</th>\n",
              "      <th>DeviceProtection_No internet service</th>\n",
              "      <th>DeviceProtection_Yes</th>\n",
              "      <th>TechSupport_No internet service</th>\n",
              "      <th>TechSupport_Yes</th>\n",
              "      <th>StreamingTV_No internet service</th>\n",
              "      <th>StreamingTV_Yes</th>\n",
              "      <th>StreamingMovies_No internet service</th>\n",
              "      <th>StreamingMovies_Yes</th>\n",
              "      <th>Contract_One year</th>\n",
              "      <th>Contract_Two year</th>\n",
              "      <th>PaymentMethod_Credit card (automatic)</th>\n",
              "      <th>PaymentMethod_Electronic check</th>\n",
              "      <th>PaymentMethod_Mailed check</th>\n",
              "      <th>NEW_tenure_year_1-2 Year</th>\n",
              "      <th>NEW_tenure_year_2-3 Year</th>\n",
              "      <th>NEW_tenure_year_3-4 Year</th>\n",
              "      <th>NEW_tenure_year_4-5 Year</th>\n",
              "      <th>NEW_tenure_year_5-6 Year</th>\n",
              "      <th>NEW_total_services_1</th>\n",
              "      <th>NEW_total_services_2</th>\n",
              "      <th>NEW_total_services_3</th>\n",
              "      <th>NEW_total_services_4</th>\n",
              "      <th>NEW_total_services_5</th>\n",
              "      <th>NEW_total_services_6</th>\n",
              "      <th>NEW_total_services_7</th>\n",
              "    </tr>\n",
              "  </thead>\n",
              "  <tbody>\n",
              "    <tr>\n",
              "      <th>0</th>\n",
              "      <td>Rare</td>\n",
              "      <td>0</td>\n",
              "      <td>0</td>\n",
              "      <td>1</td>\n",
              "      <td>0</td>\n",
              "      <td>1</td>\n",
              "      <td>0</td>\n",
              "      <td>1</td>\n",
              "      <td>29.850</td>\n",
              "      <td>29.850</td>\n",
              "      <td>0</td>\n",
              "      <td>0</td>\n",
              "      <td>0</td>\n",
              "      <td>0</td>\n",
              "      <td>0</td>\n",
              "      <td>1</td>\n",
              "      <td>0</td>\n",
              "      <td>1</td>\n",
              "      <td>1</td>\n",
              "      <td>0</td>\n",
              "      <td>14.925</td>\n",
              "      <td>0.500</td>\n",
              "      <td>1</td>\n",
              "      <td>0</td>\n",
              "      <td>0</td>\n",
              "      <td>0</td>\n",
              "      <td>0</td>\n",
              "      <td>0</td>\n",
              "      <td>0</td>\n",
              "      <td>1</td>\n",
              "      <td>0</td>\n",
              "      <td>0</td>\n",
              "      <td>0</td>\n",
              "      <td>0</td>\n",
              "      <td>0</td>\n",
              "      <td>0</td>\n",
              "      <td>0</td>\n",
              "      <td>0</td>\n",
              "      <td>0</td>\n",
              "      <td>0</td>\n",
              "      <td>0</td>\n",
              "      <td>1</td>\n",
              "      <td>0</td>\n",
              "      <td>0</td>\n",
              "      <td>0</td>\n",
              "      <td>0</td>\n",
              "      <td>0</td>\n",
              "      <td>0</td>\n",
              "      <td>1</td>\n",
              "      <td>0</td>\n",
              "      <td>0</td>\n",
              "      <td>0</td>\n",
              "      <td>0</td>\n",
              "      <td>0</td>\n",
              "      <td>0</td>\n",
              "    </tr>\n",
              "    <tr>\n",
              "      <th>1</th>\n",
              "      <td>Rare</td>\n",
              "      <td>1</td>\n",
              "      <td>0</td>\n",
              "      <td>0</td>\n",
              "      <td>0</td>\n",
              "      <td>34</td>\n",
              "      <td>1</td>\n",
              "      <td>0</td>\n",
              "      <td>56.950</td>\n",
              "      <td>1889.500</td>\n",
              "      <td>0</td>\n",
              "      <td>1</td>\n",
              "      <td>0</td>\n",
              "      <td>1</td>\n",
              "      <td>0</td>\n",
              "      <td>0</td>\n",
              "      <td>0</td>\n",
              "      <td>1</td>\n",
              "      <td>0</td>\n",
              "      <td>0</td>\n",
              "      <td>53.986</td>\n",
              "      <td>0.948</td>\n",
              "      <td>0</td>\n",
              "      <td>0</td>\n",
              "      <td>0</td>\n",
              "      <td>0</td>\n",
              "      <td>0</td>\n",
              "      <td>1</td>\n",
              "      <td>0</td>\n",
              "      <td>0</td>\n",
              "      <td>0</td>\n",
              "      <td>1</td>\n",
              "      <td>0</td>\n",
              "      <td>0</td>\n",
              "      <td>0</td>\n",
              "      <td>0</td>\n",
              "      <td>0</td>\n",
              "      <td>0</td>\n",
              "      <td>1</td>\n",
              "      <td>0</td>\n",
              "      <td>0</td>\n",
              "      <td>0</td>\n",
              "      <td>1</td>\n",
              "      <td>0</td>\n",
              "      <td>1</td>\n",
              "      <td>0</td>\n",
              "      <td>0</td>\n",
              "      <td>0</td>\n",
              "      <td>0</td>\n",
              "      <td>0</td>\n",
              "      <td>1</td>\n",
              "      <td>0</td>\n",
              "      <td>0</td>\n",
              "      <td>0</td>\n",
              "      <td>0</td>\n",
              "    </tr>\n",
              "    <tr>\n",
              "      <th>2</th>\n",
              "      <td>Rare</td>\n",
              "      <td>1</td>\n",
              "      <td>0</td>\n",
              "      <td>0</td>\n",
              "      <td>0</td>\n",
              "      <td>2</td>\n",
              "      <td>1</td>\n",
              "      <td>1</td>\n",
              "      <td>53.850</td>\n",
              "      <td>108.150</td>\n",
              "      <td>1</td>\n",
              "      <td>0</td>\n",
              "      <td>0</td>\n",
              "      <td>0</td>\n",
              "      <td>0</td>\n",
              "      <td>0</td>\n",
              "      <td>0</td>\n",
              "      <td>1</td>\n",
              "      <td>1</td>\n",
              "      <td>0</td>\n",
              "      <td>36.050</td>\n",
              "      <td>0.669</td>\n",
              "      <td>0</td>\n",
              "      <td>0</td>\n",
              "      <td>0</td>\n",
              "      <td>0</td>\n",
              "      <td>0</td>\n",
              "      <td>1</td>\n",
              "      <td>0</td>\n",
              "      <td>1</td>\n",
              "      <td>0</td>\n",
              "      <td>0</td>\n",
              "      <td>0</td>\n",
              "      <td>0</td>\n",
              "      <td>0</td>\n",
              "      <td>0</td>\n",
              "      <td>0</td>\n",
              "      <td>0</td>\n",
              "      <td>0</td>\n",
              "      <td>0</td>\n",
              "      <td>0</td>\n",
              "      <td>0</td>\n",
              "      <td>1</td>\n",
              "      <td>0</td>\n",
              "      <td>0</td>\n",
              "      <td>0</td>\n",
              "      <td>0</td>\n",
              "      <td>0</td>\n",
              "      <td>0</td>\n",
              "      <td>0</td>\n",
              "      <td>1</td>\n",
              "      <td>0</td>\n",
              "      <td>0</td>\n",
              "      <td>0</td>\n",
              "      <td>0</td>\n",
              "    </tr>\n",
              "    <tr>\n",
              "      <th>3</th>\n",
              "      <td>Rare</td>\n",
              "      <td>1</td>\n",
              "      <td>0</td>\n",
              "      <td>0</td>\n",
              "      <td>0</td>\n",
              "      <td>45</td>\n",
              "      <td>0</td>\n",
              "      <td>0</td>\n",
              "      <td>42.300</td>\n",
              "      <td>1840.750</td>\n",
              "      <td>0</td>\n",
              "      <td>1</td>\n",
              "      <td>0</td>\n",
              "      <td>1</td>\n",
              "      <td>0</td>\n",
              "      <td>0</td>\n",
              "      <td>0</td>\n",
              "      <td>1</td>\n",
              "      <td>0</td>\n",
              "      <td>1</td>\n",
              "      <td>40.016</td>\n",
              "      <td>0.946</td>\n",
              "      <td>1</td>\n",
              "      <td>0</td>\n",
              "      <td>0</td>\n",
              "      <td>0</td>\n",
              "      <td>0</td>\n",
              "      <td>1</td>\n",
              "      <td>0</td>\n",
              "      <td>0</td>\n",
              "      <td>0</td>\n",
              "      <td>1</td>\n",
              "      <td>0</td>\n",
              "      <td>1</td>\n",
              "      <td>0</td>\n",
              "      <td>0</td>\n",
              "      <td>0</td>\n",
              "      <td>0</td>\n",
              "      <td>1</td>\n",
              "      <td>0</td>\n",
              "      <td>0</td>\n",
              "      <td>0</td>\n",
              "      <td>0</td>\n",
              "      <td>0</td>\n",
              "      <td>0</td>\n",
              "      <td>1</td>\n",
              "      <td>0</td>\n",
              "      <td>0</td>\n",
              "      <td>0</td>\n",
              "      <td>0</td>\n",
              "      <td>1</td>\n",
              "      <td>0</td>\n",
              "      <td>0</td>\n",
              "      <td>0</td>\n",
              "      <td>0</td>\n",
              "    </tr>\n",
              "    <tr>\n",
              "      <th>4</th>\n",
              "      <td>Rare</td>\n",
              "      <td>0</td>\n",
              "      <td>0</td>\n",
              "      <td>0</td>\n",
              "      <td>0</td>\n",
              "      <td>2</td>\n",
              "      <td>1</td>\n",
              "      <td>1</td>\n",
              "      <td>70.700</td>\n",
              "      <td>151.650</td>\n",
              "      <td>1</td>\n",
              "      <td>0</td>\n",
              "      <td>0</td>\n",
              "      <td>0</td>\n",
              "      <td>0</td>\n",
              "      <td>1</td>\n",
              "      <td>1</td>\n",
              "      <td>1</td>\n",
              "      <td>1</td>\n",
              "      <td>0</td>\n",
              "      <td>50.550</td>\n",
              "      <td>0.715</td>\n",
              "      <td>0</td>\n",
              "      <td>0</td>\n",
              "      <td>1</td>\n",
              "      <td>0</td>\n",
              "      <td>0</td>\n",
              "      <td>0</td>\n",
              "      <td>0</td>\n",
              "      <td>0</td>\n",
              "      <td>0</td>\n",
              "      <td>0</td>\n",
              "      <td>0</td>\n",
              "      <td>0</td>\n",
              "      <td>0</td>\n",
              "      <td>0</td>\n",
              "      <td>0</td>\n",
              "      <td>0</td>\n",
              "      <td>0</td>\n",
              "      <td>0</td>\n",
              "      <td>0</td>\n",
              "      <td>1</td>\n",
              "      <td>0</td>\n",
              "      <td>0</td>\n",
              "      <td>0</td>\n",
              "      <td>0</td>\n",
              "      <td>0</td>\n",
              "      <td>0</td>\n",
              "      <td>1</td>\n",
              "      <td>0</td>\n",
              "      <td>0</td>\n",
              "      <td>0</td>\n",
              "      <td>0</td>\n",
              "      <td>0</td>\n",
              "      <td>0</td>\n",
              "    </tr>\n",
              "  </tbody>\n",
              "</table>\n",
              "</div>\n",
              "      <button class=\"colab-df-convert\" onclick=\"convertToInteractive('df-727422c6-873d-4db6-80b1-f9be01113f09')\"\n",
              "              title=\"Convert this dataframe to an interactive table.\"\n",
              "              style=\"display:none;\">\n",
              "        \n",
              "  <svg xmlns=\"http://www.w3.org/2000/svg\" height=\"24px\"viewBox=\"0 0 24 24\"\n",
              "       width=\"24px\">\n",
              "    <path d=\"M0 0h24v24H0V0z\" fill=\"none\"/>\n",
              "    <path d=\"M18.56 5.44l.94 2.06.94-2.06 2.06-.94-2.06-.94-.94-2.06-.94 2.06-2.06.94zm-11 1L8.5 8.5l.94-2.06 2.06-.94-2.06-.94L8.5 2.5l-.94 2.06-2.06.94zm10 10l.94 2.06.94-2.06 2.06-.94-2.06-.94-.94-2.06-.94 2.06-2.06.94z\"/><path d=\"M17.41 7.96l-1.37-1.37c-.4-.4-.92-.59-1.43-.59-.52 0-1.04.2-1.43.59L10.3 9.45l-7.72 7.72c-.78.78-.78 2.05 0 2.83L4 21.41c.39.39.9.59 1.41.59.51 0 1.02-.2 1.41-.59l7.78-7.78 2.81-2.81c.8-.78.8-2.07 0-2.86zM5.41 20L4 18.59l7.72-7.72 1.47 1.35L5.41 20z\"/>\n",
              "  </svg>\n",
              "      </button>\n",
              "      \n",
              "  <style>\n",
              "    .colab-df-container {\n",
              "      display:flex;\n",
              "      flex-wrap:wrap;\n",
              "      gap: 12px;\n",
              "    }\n",
              "\n",
              "    .colab-df-convert {\n",
              "      background-color: #E8F0FE;\n",
              "      border: none;\n",
              "      border-radius: 50%;\n",
              "      cursor: pointer;\n",
              "      display: none;\n",
              "      fill: #1967D2;\n",
              "      height: 32px;\n",
              "      padding: 0 0 0 0;\n",
              "      width: 32px;\n",
              "    }\n",
              "\n",
              "    .colab-df-convert:hover {\n",
              "      background-color: #E2EBFA;\n",
              "      box-shadow: 0px 1px 2px rgba(60, 64, 67, 0.3), 0px 1px 3px 1px rgba(60, 64, 67, 0.15);\n",
              "      fill: #174EA6;\n",
              "    }\n",
              "\n",
              "    [theme=dark] .colab-df-convert {\n",
              "      background-color: #3B4455;\n",
              "      fill: #D2E3FC;\n",
              "    }\n",
              "\n",
              "    [theme=dark] .colab-df-convert:hover {\n",
              "      background-color: #434B5C;\n",
              "      box-shadow: 0px 1px 3px 1px rgba(0, 0, 0, 0.15);\n",
              "      filter: drop-shadow(0px 1px 2px rgba(0, 0, 0, 0.3));\n",
              "      fill: #FFFFFF;\n",
              "    }\n",
              "  </style>\n",
              "\n",
              "      <script>\n",
              "        const buttonEl =\n",
              "          document.querySelector('#df-727422c6-873d-4db6-80b1-f9be01113f09 button.colab-df-convert');\n",
              "        buttonEl.style.display =\n",
              "          google.colab.kernel.accessAllowed ? 'block' : 'none';\n",
              "\n",
              "        async function convertToInteractive(key) {\n",
              "          const element = document.querySelector('#df-727422c6-873d-4db6-80b1-f9be01113f09');\n",
              "          const dataTable =\n",
              "            await google.colab.kernel.invokeFunction('convertToInteractive',\n",
              "                                                     [key], {});\n",
              "          if (!dataTable) return;\n",
              "\n",
              "          const docLinkHtml = 'Like what you see? Visit the ' +\n",
              "            '<a target=\"_blank\" href=https://colab.research.google.com/notebooks/data_table.ipynb>data table notebook</a>'\n",
              "            + ' to learn more about interactive tables.';\n",
              "          element.innerHTML = '';\n",
              "          dataTable['output_type'] = 'display_data';\n",
              "          await google.colab.output.renderOutput(dataTable, element);\n",
              "          const docLink = document.createElement('div');\n",
              "          docLink.innerHTML = docLinkHtml;\n",
              "          element.appendChild(docLink);\n",
              "        }\n",
              "      </script>\n",
              "    </div>\n",
              "  </div>\n",
              "  "
            ]
          },
          "metadata": {},
          "execution_count": 269
        }
      ]
    },
    {
      "cell_type": "code",
      "source": [
        "df = df.drop([\"customerID\"], axis=1)"
      ],
      "metadata": {
        "id": "_EQ6f4LZrE5o"
      },
      "execution_count": null,
      "outputs": []
    },
    {
      "cell_type": "code",
      "source": [
        "df.head()"
      ],
      "metadata": {
        "colab": {
          "base_uri": "https://localhost:8080/",
          "height": 305
        },
        "id": "b1cJf-eZrMRU",
        "outputId": "ce55ab0c-99b1-4830-8f2e-948cbc552d38"
      },
      "execution_count": null,
      "outputs": [
        {
          "output_type": "execute_result",
          "data": {
            "text/plain": [
              "   gender  SeniorCitizen  Partner  Dependents  tenure  PhoneService  PaperlessBilling  MonthlyCharges  TotalCharges  Churn  NEW_engaged  NEW_FLAG_streaming  NEW_not_risky  NEW_risky  NEW_check_and_senior  NEW_tenure_higher_charges  NEW_noProt  NEW_Young_Not_Engaged  NEW_FLAG_autopayment  NEW_avg_charges  NEW_increase  MultipleLines_No phone service  MultipleLines_Yes  InternetService_Fiber optic  InternetService_No  OnlineSecurity_No internet service  OnlineSecurity_Yes  \\\n",
              "0       0              0        1           0       1             0                 1          29.850        29.850      0            0                   0              0          0                     1                          0           1                      1                     0           14.925         0.500                               1                  0                            0                   0                                   0                   0   \n",
              "1       1              0        0           0      34             1                 0          56.950      1889.500      0            1                   0              1          0                     0                          0           1                      0                     0           53.986         0.948                               0                  0                            0                   0                                   0                   1   \n",
              "2       1              0        0           0       2             1                 1          53.850       108.150      1            0                   0              0          0                     0                          0           1                      1                     0           36.050         0.669                               0                  0                            0                   0                                   0                   1   \n",
              "3       1              0        0           0      45             0                 0          42.300      1840.750      0            1                   0              1          0                     0                          0           1                      0                     1           40.016         0.946                               1                  0                            0                   0                                   0                   1   \n",
              "4       0              0        0           0       2             1                 1          70.700       151.650      1            0                   0              0          0                     1                          1           1                      1                     0           50.550         0.715                               0                  0                            1                   0                                   0                   0   \n",
              "\n",
              "   OnlineBackup_No internet service  OnlineBackup_Yes  DeviceProtection_No internet service  DeviceProtection_Yes  TechSupport_No internet service  TechSupport_Yes  StreamingTV_No internet service  StreamingTV_Yes  StreamingMovies_No internet service  StreamingMovies_Yes  Contract_One year  Contract_Two year  PaymentMethod_Credit card (automatic)  PaymentMethod_Electronic check  PaymentMethod_Mailed check  NEW_tenure_year_1-2 Year  NEW_tenure_year_2-3 Year  NEW_tenure_year_3-4 Year  \\\n",
              "0                                 0                 1                                     0                     0                                0                0                                0                0                                    0                    0                  0                  0                                      0                               1                           0                         0                         0                         0   \n",
              "1                                 0                 0                                     0                     1                                0                0                                0                0                                    0                    0                  1                  0                                      0                               0                           1                         0                         1                         0   \n",
              "2                                 0                 1                                     0                     0                                0                0                                0                0                                    0                    0                  0                  0                                      0                               0                           1                         0                         0                         0   \n",
              "3                                 0                 0                                     0                     1                                0                1                                0                0                                    0                    0                  1                  0                                      0                               0                           0                         0                         0                         1   \n",
              "4                                 0                 0                                     0                     0                                0                0                                0                0                                    0                    0                  0                  0                                      0                               1                           0                         0                         0                         0   \n",
              "\n",
              "   NEW_tenure_year_4-5 Year  NEW_tenure_year_5-6 Year  NEW_total_services_1  NEW_total_services_2  NEW_total_services_3  NEW_total_services_4  NEW_total_services_5  NEW_total_services_6  NEW_total_services_7  \n",
              "0                         0                         0                     1                     0                     0                     0                     0                     0                     0  \n",
              "1                         0                         0                     0                     0                     1                     0                     0                     0                     0  \n",
              "2                         0                         0                     0                     0                     1                     0                     0                     0                     0  \n",
              "3                         0                         0                     0                     0                     1                     0                     0                     0                     0  \n",
              "4                         0                         0                     1                     0                     0                     0                     0                     0                     0  "
            ],
            "text/html": [
              "\n",
              "  <div id=\"df-18622f6e-6484-4a63-acd8-df4a7eacc219\">\n",
              "    <div class=\"colab-df-container\">\n",
              "      <div>\n",
              "<style scoped>\n",
              "    .dataframe tbody tr th:only-of-type {\n",
              "        vertical-align: middle;\n",
              "    }\n",
              "\n",
              "    .dataframe tbody tr th {\n",
              "        vertical-align: top;\n",
              "    }\n",
              "\n",
              "    .dataframe thead th {\n",
              "        text-align: right;\n",
              "    }\n",
              "</style>\n",
              "<table border=\"1\" class=\"dataframe\">\n",
              "  <thead>\n",
              "    <tr style=\"text-align: right;\">\n",
              "      <th></th>\n",
              "      <th>gender</th>\n",
              "      <th>SeniorCitizen</th>\n",
              "      <th>Partner</th>\n",
              "      <th>Dependents</th>\n",
              "      <th>tenure</th>\n",
              "      <th>PhoneService</th>\n",
              "      <th>PaperlessBilling</th>\n",
              "      <th>MonthlyCharges</th>\n",
              "      <th>TotalCharges</th>\n",
              "      <th>Churn</th>\n",
              "      <th>NEW_engaged</th>\n",
              "      <th>NEW_FLAG_streaming</th>\n",
              "      <th>NEW_not_risky</th>\n",
              "      <th>NEW_risky</th>\n",
              "      <th>NEW_check_and_senior</th>\n",
              "      <th>NEW_tenure_higher_charges</th>\n",
              "      <th>NEW_noProt</th>\n",
              "      <th>NEW_Young_Not_Engaged</th>\n",
              "      <th>NEW_FLAG_autopayment</th>\n",
              "      <th>NEW_avg_charges</th>\n",
              "      <th>NEW_increase</th>\n",
              "      <th>MultipleLines_No phone service</th>\n",
              "      <th>MultipleLines_Yes</th>\n",
              "      <th>InternetService_Fiber optic</th>\n",
              "      <th>InternetService_No</th>\n",
              "      <th>OnlineSecurity_No internet service</th>\n",
              "      <th>OnlineSecurity_Yes</th>\n",
              "      <th>OnlineBackup_No internet service</th>\n",
              "      <th>OnlineBackup_Yes</th>\n",
              "      <th>DeviceProtection_No internet service</th>\n",
              "      <th>DeviceProtection_Yes</th>\n",
              "      <th>TechSupport_No internet service</th>\n",
              "      <th>TechSupport_Yes</th>\n",
              "      <th>StreamingTV_No internet service</th>\n",
              "      <th>StreamingTV_Yes</th>\n",
              "      <th>StreamingMovies_No internet service</th>\n",
              "      <th>StreamingMovies_Yes</th>\n",
              "      <th>Contract_One year</th>\n",
              "      <th>Contract_Two year</th>\n",
              "      <th>PaymentMethod_Credit card (automatic)</th>\n",
              "      <th>PaymentMethod_Electronic check</th>\n",
              "      <th>PaymentMethod_Mailed check</th>\n",
              "      <th>NEW_tenure_year_1-2 Year</th>\n",
              "      <th>NEW_tenure_year_2-3 Year</th>\n",
              "      <th>NEW_tenure_year_3-4 Year</th>\n",
              "      <th>NEW_tenure_year_4-5 Year</th>\n",
              "      <th>NEW_tenure_year_5-6 Year</th>\n",
              "      <th>NEW_total_services_1</th>\n",
              "      <th>NEW_total_services_2</th>\n",
              "      <th>NEW_total_services_3</th>\n",
              "      <th>NEW_total_services_4</th>\n",
              "      <th>NEW_total_services_5</th>\n",
              "      <th>NEW_total_services_6</th>\n",
              "      <th>NEW_total_services_7</th>\n",
              "    </tr>\n",
              "  </thead>\n",
              "  <tbody>\n",
              "    <tr>\n",
              "      <th>0</th>\n",
              "      <td>0</td>\n",
              "      <td>0</td>\n",
              "      <td>1</td>\n",
              "      <td>0</td>\n",
              "      <td>1</td>\n",
              "      <td>0</td>\n",
              "      <td>1</td>\n",
              "      <td>29.850</td>\n",
              "      <td>29.850</td>\n",
              "      <td>0</td>\n",
              "      <td>0</td>\n",
              "      <td>0</td>\n",
              "      <td>0</td>\n",
              "      <td>0</td>\n",
              "      <td>1</td>\n",
              "      <td>0</td>\n",
              "      <td>1</td>\n",
              "      <td>1</td>\n",
              "      <td>0</td>\n",
              "      <td>14.925</td>\n",
              "      <td>0.500</td>\n",
              "      <td>1</td>\n",
              "      <td>0</td>\n",
              "      <td>0</td>\n",
              "      <td>0</td>\n",
              "      <td>0</td>\n",
              "      <td>0</td>\n",
              "      <td>0</td>\n",
              "      <td>1</td>\n",
              "      <td>0</td>\n",
              "      <td>0</td>\n",
              "      <td>0</td>\n",
              "      <td>0</td>\n",
              "      <td>0</td>\n",
              "      <td>0</td>\n",
              "      <td>0</td>\n",
              "      <td>0</td>\n",
              "      <td>0</td>\n",
              "      <td>0</td>\n",
              "      <td>0</td>\n",
              "      <td>1</td>\n",
              "      <td>0</td>\n",
              "      <td>0</td>\n",
              "      <td>0</td>\n",
              "      <td>0</td>\n",
              "      <td>0</td>\n",
              "      <td>0</td>\n",
              "      <td>1</td>\n",
              "      <td>0</td>\n",
              "      <td>0</td>\n",
              "      <td>0</td>\n",
              "      <td>0</td>\n",
              "      <td>0</td>\n",
              "      <td>0</td>\n",
              "    </tr>\n",
              "    <tr>\n",
              "      <th>1</th>\n",
              "      <td>1</td>\n",
              "      <td>0</td>\n",
              "      <td>0</td>\n",
              "      <td>0</td>\n",
              "      <td>34</td>\n",
              "      <td>1</td>\n",
              "      <td>0</td>\n",
              "      <td>56.950</td>\n",
              "      <td>1889.500</td>\n",
              "      <td>0</td>\n",
              "      <td>1</td>\n",
              "      <td>0</td>\n",
              "      <td>1</td>\n",
              "      <td>0</td>\n",
              "      <td>0</td>\n",
              "      <td>0</td>\n",
              "      <td>1</td>\n",
              "      <td>0</td>\n",
              "      <td>0</td>\n",
              "      <td>53.986</td>\n",
              "      <td>0.948</td>\n",
              "      <td>0</td>\n",
              "      <td>0</td>\n",
              "      <td>0</td>\n",
              "      <td>0</td>\n",
              "      <td>0</td>\n",
              "      <td>1</td>\n",
              "      <td>0</td>\n",
              "      <td>0</td>\n",
              "      <td>0</td>\n",
              "      <td>1</td>\n",
              "      <td>0</td>\n",
              "      <td>0</td>\n",
              "      <td>0</td>\n",
              "      <td>0</td>\n",
              "      <td>0</td>\n",
              "      <td>0</td>\n",
              "      <td>1</td>\n",
              "      <td>0</td>\n",
              "      <td>0</td>\n",
              "      <td>0</td>\n",
              "      <td>1</td>\n",
              "      <td>0</td>\n",
              "      <td>1</td>\n",
              "      <td>0</td>\n",
              "      <td>0</td>\n",
              "      <td>0</td>\n",
              "      <td>0</td>\n",
              "      <td>0</td>\n",
              "      <td>1</td>\n",
              "      <td>0</td>\n",
              "      <td>0</td>\n",
              "      <td>0</td>\n",
              "      <td>0</td>\n",
              "    </tr>\n",
              "    <tr>\n",
              "      <th>2</th>\n",
              "      <td>1</td>\n",
              "      <td>0</td>\n",
              "      <td>0</td>\n",
              "      <td>0</td>\n",
              "      <td>2</td>\n",
              "      <td>1</td>\n",
              "      <td>1</td>\n",
              "      <td>53.850</td>\n",
              "      <td>108.150</td>\n",
              "      <td>1</td>\n",
              "      <td>0</td>\n",
              "      <td>0</td>\n",
              "      <td>0</td>\n",
              "      <td>0</td>\n",
              "      <td>0</td>\n",
              "      <td>0</td>\n",
              "      <td>1</td>\n",
              "      <td>1</td>\n",
              "      <td>0</td>\n",
              "      <td>36.050</td>\n",
              "      <td>0.669</td>\n",
              "      <td>0</td>\n",
              "      <td>0</td>\n",
              "      <td>0</td>\n",
              "      <td>0</td>\n",
              "      <td>0</td>\n",
              "      <td>1</td>\n",
              "      <td>0</td>\n",
              "      <td>1</td>\n",
              "      <td>0</td>\n",
              "      <td>0</td>\n",
              "      <td>0</td>\n",
              "      <td>0</td>\n",
              "      <td>0</td>\n",
              "      <td>0</td>\n",
              "      <td>0</td>\n",
              "      <td>0</td>\n",
              "      <td>0</td>\n",
              "      <td>0</td>\n",
              "      <td>0</td>\n",
              "      <td>0</td>\n",
              "      <td>1</td>\n",
              "      <td>0</td>\n",
              "      <td>0</td>\n",
              "      <td>0</td>\n",
              "      <td>0</td>\n",
              "      <td>0</td>\n",
              "      <td>0</td>\n",
              "      <td>0</td>\n",
              "      <td>1</td>\n",
              "      <td>0</td>\n",
              "      <td>0</td>\n",
              "      <td>0</td>\n",
              "      <td>0</td>\n",
              "    </tr>\n",
              "    <tr>\n",
              "      <th>3</th>\n",
              "      <td>1</td>\n",
              "      <td>0</td>\n",
              "      <td>0</td>\n",
              "      <td>0</td>\n",
              "      <td>45</td>\n",
              "      <td>0</td>\n",
              "      <td>0</td>\n",
              "      <td>42.300</td>\n",
              "      <td>1840.750</td>\n",
              "      <td>0</td>\n",
              "      <td>1</td>\n",
              "      <td>0</td>\n",
              "      <td>1</td>\n",
              "      <td>0</td>\n",
              "      <td>0</td>\n",
              "      <td>0</td>\n",
              "      <td>1</td>\n",
              "      <td>0</td>\n",
              "      <td>1</td>\n",
              "      <td>40.016</td>\n",
              "      <td>0.946</td>\n",
              "      <td>1</td>\n",
              "      <td>0</td>\n",
              "      <td>0</td>\n",
              "      <td>0</td>\n",
              "      <td>0</td>\n",
              "      <td>1</td>\n",
              "      <td>0</td>\n",
              "      <td>0</td>\n",
              "      <td>0</td>\n",
              "      <td>1</td>\n",
              "      <td>0</td>\n",
              "      <td>1</td>\n",
              "      <td>0</td>\n",
              "      <td>0</td>\n",
              "      <td>0</td>\n",
              "      <td>0</td>\n",
              "      <td>1</td>\n",
              "      <td>0</td>\n",
              "      <td>0</td>\n",
              "      <td>0</td>\n",
              "      <td>0</td>\n",
              "      <td>0</td>\n",
              "      <td>0</td>\n",
              "      <td>1</td>\n",
              "      <td>0</td>\n",
              "      <td>0</td>\n",
              "      <td>0</td>\n",
              "      <td>0</td>\n",
              "      <td>1</td>\n",
              "      <td>0</td>\n",
              "      <td>0</td>\n",
              "      <td>0</td>\n",
              "      <td>0</td>\n",
              "    </tr>\n",
              "    <tr>\n",
              "      <th>4</th>\n",
              "      <td>0</td>\n",
              "      <td>0</td>\n",
              "      <td>0</td>\n",
              "      <td>0</td>\n",
              "      <td>2</td>\n",
              "      <td>1</td>\n",
              "      <td>1</td>\n",
              "      <td>70.700</td>\n",
              "      <td>151.650</td>\n",
              "      <td>1</td>\n",
              "      <td>0</td>\n",
              "      <td>0</td>\n",
              "      <td>0</td>\n",
              "      <td>0</td>\n",
              "      <td>1</td>\n",
              "      <td>1</td>\n",
              "      <td>1</td>\n",
              "      <td>1</td>\n",
              "      <td>0</td>\n",
              "      <td>50.550</td>\n",
              "      <td>0.715</td>\n",
              "      <td>0</td>\n",
              "      <td>0</td>\n",
              "      <td>1</td>\n",
              "      <td>0</td>\n",
              "      <td>0</td>\n",
              "      <td>0</td>\n",
              "      <td>0</td>\n",
              "      <td>0</td>\n",
              "      <td>0</td>\n",
              "      <td>0</td>\n",
              "      <td>0</td>\n",
              "      <td>0</td>\n",
              "      <td>0</td>\n",
              "      <td>0</td>\n",
              "      <td>0</td>\n",
              "      <td>0</td>\n",
              "      <td>0</td>\n",
              "      <td>0</td>\n",
              "      <td>0</td>\n",
              "      <td>1</td>\n",
              "      <td>0</td>\n",
              "      <td>0</td>\n",
              "      <td>0</td>\n",
              "      <td>0</td>\n",
              "      <td>0</td>\n",
              "      <td>0</td>\n",
              "      <td>1</td>\n",
              "      <td>0</td>\n",
              "      <td>0</td>\n",
              "      <td>0</td>\n",
              "      <td>0</td>\n",
              "      <td>0</td>\n",
              "      <td>0</td>\n",
              "    </tr>\n",
              "  </tbody>\n",
              "</table>\n",
              "</div>\n",
              "      <button class=\"colab-df-convert\" onclick=\"convertToInteractive('df-18622f6e-6484-4a63-acd8-df4a7eacc219')\"\n",
              "              title=\"Convert this dataframe to an interactive table.\"\n",
              "              style=\"display:none;\">\n",
              "        \n",
              "  <svg xmlns=\"http://www.w3.org/2000/svg\" height=\"24px\"viewBox=\"0 0 24 24\"\n",
              "       width=\"24px\">\n",
              "    <path d=\"M0 0h24v24H0V0z\" fill=\"none\"/>\n",
              "    <path d=\"M18.56 5.44l.94 2.06.94-2.06 2.06-.94-2.06-.94-.94-2.06-.94 2.06-2.06.94zm-11 1L8.5 8.5l.94-2.06 2.06-.94-2.06-.94L8.5 2.5l-.94 2.06-2.06.94zm10 10l.94 2.06.94-2.06 2.06-.94-2.06-.94-.94-2.06-.94 2.06-2.06.94z\"/><path d=\"M17.41 7.96l-1.37-1.37c-.4-.4-.92-.59-1.43-.59-.52 0-1.04.2-1.43.59L10.3 9.45l-7.72 7.72c-.78.78-.78 2.05 0 2.83L4 21.41c.39.39.9.59 1.41.59.51 0 1.02-.2 1.41-.59l7.78-7.78 2.81-2.81c.8-.78.8-2.07 0-2.86zM5.41 20L4 18.59l7.72-7.72 1.47 1.35L5.41 20z\"/>\n",
              "  </svg>\n",
              "      </button>\n",
              "      \n",
              "  <style>\n",
              "    .colab-df-container {\n",
              "      display:flex;\n",
              "      flex-wrap:wrap;\n",
              "      gap: 12px;\n",
              "    }\n",
              "\n",
              "    .colab-df-convert {\n",
              "      background-color: #E8F0FE;\n",
              "      border: none;\n",
              "      border-radius: 50%;\n",
              "      cursor: pointer;\n",
              "      display: none;\n",
              "      fill: #1967D2;\n",
              "      height: 32px;\n",
              "      padding: 0 0 0 0;\n",
              "      width: 32px;\n",
              "    }\n",
              "\n",
              "    .colab-df-convert:hover {\n",
              "      background-color: #E2EBFA;\n",
              "      box-shadow: 0px 1px 2px rgba(60, 64, 67, 0.3), 0px 1px 3px 1px rgba(60, 64, 67, 0.15);\n",
              "      fill: #174EA6;\n",
              "    }\n",
              "\n",
              "    [theme=dark] .colab-df-convert {\n",
              "      background-color: #3B4455;\n",
              "      fill: #D2E3FC;\n",
              "    }\n",
              "\n",
              "    [theme=dark] .colab-df-convert:hover {\n",
              "      background-color: #434B5C;\n",
              "      box-shadow: 0px 1px 3px 1px rgba(0, 0, 0, 0.15);\n",
              "      filter: drop-shadow(0px 1px 2px rgba(0, 0, 0, 0.3));\n",
              "      fill: #FFFFFF;\n",
              "    }\n",
              "  </style>\n",
              "\n",
              "      <script>\n",
              "        const buttonEl =\n",
              "          document.querySelector('#df-18622f6e-6484-4a63-acd8-df4a7eacc219 button.colab-df-convert');\n",
              "        buttonEl.style.display =\n",
              "          google.colab.kernel.accessAllowed ? 'block' : 'none';\n",
              "\n",
              "        async function convertToInteractive(key) {\n",
              "          const element = document.querySelector('#df-18622f6e-6484-4a63-acd8-df4a7eacc219');\n",
              "          const dataTable =\n",
              "            await google.colab.kernel.invokeFunction('convertToInteractive',\n",
              "                                                     [key], {});\n",
              "          if (!dataTable) return;\n",
              "\n",
              "          const docLinkHtml = 'Like what you see? Visit the ' +\n",
              "            '<a target=\"_blank\" href=https://colab.research.google.com/notebooks/data_table.ipynb>data table notebook</a>'\n",
              "            + ' to learn more about interactive tables.';\n",
              "          element.innerHTML = '';\n",
              "          dataTable['output_type'] = 'display_data';\n",
              "          await google.colab.output.renderOutput(dataTable, element);\n",
              "          const docLink = document.createElement('div');\n",
              "          docLink.innerHTML = docLinkHtml;\n",
              "          element.appendChild(docLink);\n",
              "        }\n",
              "      </script>\n",
              "    </div>\n",
              "  </div>\n",
              "  "
            ]
          },
          "metadata": {},
          "execution_count": 271
        }
      ]
    },
    {
      "cell_type": "markdown",
      "source": [
        "## Feature Scaling"
      ],
      "metadata": {
        "id": "Q8hRkPd_rRaF"
      }
    },
    {
      "cell_type": "code",
      "source": [
        "scaler = StandardScaler()\n",
        "df[num_cols] = scaler.fit_transform(df[num_cols])\n",
        "df[num_cols].head()"
      ],
      "metadata": {
        "colab": {
          "base_uri": "https://localhost:8080/",
          "height": 206
        },
        "id": "iKIKLFs6rX2y",
        "outputId": "252048c0-9b4c-46f9-e8d7-c8cd782dcd10"
      },
      "execution_count": null,
      "outputs": [
        {
          "output_type": "execute_result",
          "data": {
            "text/plain": [
              "   tenure  MonthlyCharges  TotalCharges\n",
              "0  -1.277          -1.160        -0.993\n",
              "1   0.066          -0.260        -0.172\n",
              "2  -1.237          -0.363        -0.958\n",
              "3   0.514          -0.747        -0.194\n",
              "4  -1.237           0.197        -0.939"
            ],
            "text/html": [
              "\n",
              "  <div id=\"df-1085bab9-7207-4559-a03c-fa4b85e8ff5a\">\n",
              "    <div class=\"colab-df-container\">\n",
              "      <div>\n",
              "<style scoped>\n",
              "    .dataframe tbody tr th:only-of-type {\n",
              "        vertical-align: middle;\n",
              "    }\n",
              "\n",
              "    .dataframe tbody tr th {\n",
              "        vertical-align: top;\n",
              "    }\n",
              "\n",
              "    .dataframe thead th {\n",
              "        text-align: right;\n",
              "    }\n",
              "</style>\n",
              "<table border=\"1\" class=\"dataframe\">\n",
              "  <thead>\n",
              "    <tr style=\"text-align: right;\">\n",
              "      <th></th>\n",
              "      <th>tenure</th>\n",
              "      <th>MonthlyCharges</th>\n",
              "      <th>TotalCharges</th>\n",
              "    </tr>\n",
              "  </thead>\n",
              "  <tbody>\n",
              "    <tr>\n",
              "      <th>0</th>\n",
              "      <td>-1.277</td>\n",
              "      <td>-1.160</td>\n",
              "      <td>-0.993</td>\n",
              "    </tr>\n",
              "    <tr>\n",
              "      <th>1</th>\n",
              "      <td>0.066</td>\n",
              "      <td>-0.260</td>\n",
              "      <td>-0.172</td>\n",
              "    </tr>\n",
              "    <tr>\n",
              "      <th>2</th>\n",
              "      <td>-1.237</td>\n",
              "      <td>-0.363</td>\n",
              "      <td>-0.958</td>\n",
              "    </tr>\n",
              "    <tr>\n",
              "      <th>3</th>\n",
              "      <td>0.514</td>\n",
              "      <td>-0.747</td>\n",
              "      <td>-0.194</td>\n",
              "    </tr>\n",
              "    <tr>\n",
              "      <th>4</th>\n",
              "      <td>-1.237</td>\n",
              "      <td>0.197</td>\n",
              "      <td>-0.939</td>\n",
              "    </tr>\n",
              "  </tbody>\n",
              "</table>\n",
              "</div>\n",
              "      <button class=\"colab-df-convert\" onclick=\"convertToInteractive('df-1085bab9-7207-4559-a03c-fa4b85e8ff5a')\"\n",
              "              title=\"Convert this dataframe to an interactive table.\"\n",
              "              style=\"display:none;\">\n",
              "        \n",
              "  <svg xmlns=\"http://www.w3.org/2000/svg\" height=\"24px\"viewBox=\"0 0 24 24\"\n",
              "       width=\"24px\">\n",
              "    <path d=\"M0 0h24v24H0V0z\" fill=\"none\"/>\n",
              "    <path d=\"M18.56 5.44l.94 2.06.94-2.06 2.06-.94-2.06-.94-.94-2.06-.94 2.06-2.06.94zm-11 1L8.5 8.5l.94-2.06 2.06-.94-2.06-.94L8.5 2.5l-.94 2.06-2.06.94zm10 10l.94 2.06.94-2.06 2.06-.94-2.06-.94-.94-2.06-.94 2.06-2.06.94z\"/><path d=\"M17.41 7.96l-1.37-1.37c-.4-.4-.92-.59-1.43-.59-.52 0-1.04.2-1.43.59L10.3 9.45l-7.72 7.72c-.78.78-.78 2.05 0 2.83L4 21.41c.39.39.9.59 1.41.59.51 0 1.02-.2 1.41-.59l7.78-7.78 2.81-2.81c.8-.78.8-2.07 0-2.86zM5.41 20L4 18.59l7.72-7.72 1.47 1.35L5.41 20z\"/>\n",
              "  </svg>\n",
              "      </button>\n",
              "      \n",
              "  <style>\n",
              "    .colab-df-container {\n",
              "      display:flex;\n",
              "      flex-wrap:wrap;\n",
              "      gap: 12px;\n",
              "    }\n",
              "\n",
              "    .colab-df-convert {\n",
              "      background-color: #E8F0FE;\n",
              "      border: none;\n",
              "      border-radius: 50%;\n",
              "      cursor: pointer;\n",
              "      display: none;\n",
              "      fill: #1967D2;\n",
              "      height: 32px;\n",
              "      padding: 0 0 0 0;\n",
              "      width: 32px;\n",
              "    }\n",
              "\n",
              "    .colab-df-convert:hover {\n",
              "      background-color: #E2EBFA;\n",
              "      box-shadow: 0px 1px 2px rgba(60, 64, 67, 0.3), 0px 1px 3px 1px rgba(60, 64, 67, 0.15);\n",
              "      fill: #174EA6;\n",
              "    }\n",
              "\n",
              "    [theme=dark] .colab-df-convert {\n",
              "      background-color: #3B4455;\n",
              "      fill: #D2E3FC;\n",
              "    }\n",
              "\n",
              "    [theme=dark] .colab-df-convert:hover {\n",
              "      background-color: #434B5C;\n",
              "      box-shadow: 0px 1px 3px 1px rgba(0, 0, 0, 0.15);\n",
              "      filter: drop-shadow(0px 1px 2px rgba(0, 0, 0, 0.3));\n",
              "      fill: #FFFFFF;\n",
              "    }\n",
              "  </style>\n",
              "\n",
              "      <script>\n",
              "        const buttonEl =\n",
              "          document.querySelector('#df-1085bab9-7207-4559-a03c-fa4b85e8ff5a button.colab-df-convert');\n",
              "        buttonEl.style.display =\n",
              "          google.colab.kernel.accessAllowed ? 'block' : 'none';\n",
              "\n",
              "        async function convertToInteractive(key) {\n",
              "          const element = document.querySelector('#df-1085bab9-7207-4559-a03c-fa4b85e8ff5a');\n",
              "          const dataTable =\n",
              "            await google.colab.kernel.invokeFunction('convertToInteractive',\n",
              "                                                     [key], {});\n",
              "          if (!dataTable) return;\n",
              "\n",
              "          const docLinkHtml = 'Like what you see? Visit the ' +\n",
              "            '<a target=\"_blank\" href=https://colab.research.google.com/notebooks/data_table.ipynb>data table notebook</a>'\n",
              "            + ' to learn more about interactive tables.';\n",
              "          element.innerHTML = '';\n",
              "          dataTable['output_type'] = 'display_data';\n",
              "          await google.colab.output.renderOutput(dataTable, element);\n",
              "          const docLink = document.createElement('div');\n",
              "          docLink.innerHTML = docLinkHtml;\n",
              "          element.appendChild(docLink);\n",
              "        }\n",
              "      </script>\n",
              "    </div>\n",
              "  </div>\n",
              "  "
            ]
          },
          "metadata": {},
          "execution_count": 272
        }
      ]
    },
    {
      "cell_type": "markdown",
      "source": [
        "# Model"
      ],
      "metadata": {
        "id": "y16JmUCHrt0S"
      }
    },
    {
      "cell_type": "code",
      "source": [
        "y = df[\"Churn\"]\n",
        "X = df.drop([\"Churn\"], axis=1)\n",
        "\n",
        "X_train, X_test, y_train, y_test = train_test_split(X, y, test_size=0.30, random_state=17)\n",
        "\n",
        "from sklearn.ensemble import RandomForestClassifier\n",
        "\n",
        "rf_model = RandomForestClassifier(random_state=46).fit(X_train, y_train)\n",
        "y_pred = rf_model.predict(X_test)\n",
        "accuracy_score(y_pred, y_test)"
      ],
      "metadata": {
        "colab": {
          "base_uri": "https://localhost:8080/"
        },
        "id": "JIfO0yfVrvr5",
        "outputId": "50866ea0-bcd9-48e5-d2e6-3556d1bb17fd"
      },
      "execution_count": null,
      "outputs": [
        {
          "output_type": "execute_result",
          "data": {
            "text/plain": [
              "0.7818267865593942"
            ]
          },
          "metadata": {},
          "execution_count": 273
        }
      ]
    },
    {
      "cell_type": "code",
      "source": [
        "def plot_importance(model, features, num=len(X), save=False):\n",
        "    feature_imp = pd.DataFrame({'Value': model.feature_importances_, 'Feature': features.columns})\n",
        "    plt.figure(figsize=(10, 10))\n",
        "    sns.set(font_scale=1)\n",
        "    sns.barplot(x=\"Value\", y=\"Feature\", data=feature_imp.sort_values(by=\"Value\",\n",
        "                                                                      ascending=False)[0:num])\n",
        "    plt.title('Features')\n",
        "    plt.tight_layout()\n",
        "    plt.show(block=True)\n",
        "    if save:\n",
        "        plt.savefig('importances.png')"
      ],
      "metadata": {
        "id": "p8dEzsAYtaCk"
      },
      "execution_count": null,
      "outputs": []
    },
    {
      "cell_type": "code",
      "source": [
        "plot_importance(rf_model, X_train )"
      ],
      "metadata": {
        "colab": {
          "base_uri": "https://localhost:8080/",
          "height": 725
        },
        "id": "1O34w5hjted1",
        "outputId": "83735043-bf3c-4c81-c02c-b068c9e715c0"
      },
      "execution_count": null,
      "outputs": [
        {
          "output_type": "display_data",
          "data": {
            "text/plain": [
              "<Figure size 720x720 with 1 Axes>"
            ],
            "image/png": "[encoded data removed]"
          },
          "metadata": {}
        }
      ]
    }
  ]
}